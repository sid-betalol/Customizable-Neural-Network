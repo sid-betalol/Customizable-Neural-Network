{
  "nbformat": 4,
  "nbformat_minor": 0,
  "metadata": {
    "colab": {
      "provenance": [],
      "authorship_tag": "ABX9TyPjLRlXyKZ2uDP3SzS815F+",
      "include_colab_link": true
    },
    "kernelspec": {
      "name": "python3",
      "display_name": "Python 3"
    },
    "language_info": {
      "name": "python"
    },
    "widgets": {
      "application/vnd.jupyter.widget-state+json": {
        "81ee18448e8d4575b90f1c435851da76": {
          "model_module": "@jupyter-widgets/controls",
          "model_name": "VBoxModel",
          "model_module_version": "1.5.0",
          "state": {
            "_dom_classes": [],
            "_model_module": "@jupyter-widgets/controls",
            "_model_module_version": "1.5.0",
            "_model_name": "VBoxModel",
            "_view_count": null,
            "_view_module": "@jupyter-widgets/controls",
            "_view_module_version": "1.5.0",
            "_view_name": "VBoxView",
            "box_style": "",
            "children": [
              "IPY_MODEL_b006cb082df247da9fb57f36926d234a",
              "IPY_MODEL_42f6d71ea7e54b0ebc9611641c000bcb"
            ],
            "layout": "IPY_MODEL_0ce9c7f74d964187b9e284087445367d"
          }
        },
        "b006cb082df247da9fb57f36926d234a": {
          "model_module": "@jupyter-widgets/controls",
          "model_name": "LabelModel",
          "model_module_version": "1.5.0",
          "state": {
            "_dom_classes": [],
            "_model_module": "@jupyter-widgets/controls",
            "_model_module_version": "1.5.0",
            "_model_name": "LabelModel",
            "_view_count": null,
            "_view_module": "@jupyter-widgets/controls",
            "_view_module_version": "1.5.0",
            "_view_name": "LabelView",
            "description": "",
            "description_tooltip": null,
            "layout": "IPY_MODEL_d2bbb9d946154f538cdd23280f0ebf53",
            "placeholder": "​",
            "style": "IPY_MODEL_67bb831fad5c4230981b27f0f4f7f6d9",
            "value": "0.009 MB of 0.009 MB uploaded (0.000 MB deduped)\r"
          }
        },
        "42f6d71ea7e54b0ebc9611641c000bcb": {
          "model_module": "@jupyter-widgets/controls",
          "model_name": "FloatProgressModel",
          "model_module_version": "1.5.0",
          "state": {
            "_dom_classes": [],
            "_model_module": "@jupyter-widgets/controls",
            "_model_module_version": "1.5.0",
            "_model_name": "FloatProgressModel",
            "_view_count": null,
            "_view_module": "@jupyter-widgets/controls",
            "_view_module_version": "1.5.0",
            "_view_name": "ProgressView",
            "bar_style": "",
            "description": "",
            "description_tooltip": null,
            "layout": "IPY_MODEL_d7b78581d05041669d95a8f5ff71e7bb",
            "max": 1,
            "min": 0,
            "orientation": "horizontal",
            "style": "IPY_MODEL_095621b33d3e42319943097d8b6955fb",
            "value": 1
          }
        },
        "0ce9c7f74d964187b9e284087445367d": {
          "model_module": "@jupyter-widgets/base",
          "model_name": "LayoutModel",
          "model_module_version": "1.2.0",
          "state": {
            "_model_module": "@jupyter-widgets/base",
            "_model_module_version": "1.2.0",
            "_model_name": "LayoutModel",
            "_view_count": null,
            "_view_module": "@jupyter-widgets/base",
            "_view_module_version": "1.2.0",
            "_view_name": "LayoutView",
            "align_content": null,
            "align_items": null,
            "align_self": null,
            "border": null,
            "bottom": null,
            "display": null,
            "flex": null,
            "flex_flow": null,
            "grid_area": null,
            "grid_auto_columns": null,
            "grid_auto_flow": null,
            "grid_auto_rows": null,
            "grid_column": null,
            "grid_gap": null,
            "grid_row": null,
            "grid_template_areas": null,
            "grid_template_columns": null,
            "grid_template_rows": null,
            "height": null,
            "justify_content": null,
            "justify_items": null,
            "left": null,
            "margin": null,
            "max_height": null,
            "max_width": null,
            "min_height": null,
            "min_width": null,
            "object_fit": null,
            "object_position": null,
            "order": null,
            "overflow": null,
            "overflow_x": null,
            "overflow_y": null,
            "padding": null,
            "right": null,
            "top": null,
            "visibility": null,
            "width": null
          }
        },
        "d2bbb9d946154f538cdd23280f0ebf53": {
          "model_module": "@jupyter-widgets/base",
          "model_name": "LayoutModel",
          "model_module_version": "1.2.0",
          "state": {
            "_model_module": "@jupyter-widgets/base",
            "_model_module_version": "1.2.0",
            "_model_name": "LayoutModel",
            "_view_count": null,
            "_view_module": "@jupyter-widgets/base",
            "_view_module_version": "1.2.0",
            "_view_name": "LayoutView",
            "align_content": null,
            "align_items": null,
            "align_self": null,
            "border": null,
            "bottom": null,
            "display": null,
            "flex": null,
            "flex_flow": null,
            "grid_area": null,
            "grid_auto_columns": null,
            "grid_auto_flow": null,
            "grid_auto_rows": null,
            "grid_column": null,
            "grid_gap": null,
            "grid_row": null,
            "grid_template_areas": null,
            "grid_template_columns": null,
            "grid_template_rows": null,
            "height": null,
            "justify_content": null,
            "justify_items": null,
            "left": null,
            "margin": null,
            "max_height": null,
            "max_width": null,
            "min_height": null,
            "min_width": null,
            "object_fit": null,
            "object_position": null,
            "order": null,
            "overflow": null,
            "overflow_x": null,
            "overflow_y": null,
            "padding": null,
            "right": null,
            "top": null,
            "visibility": null,
            "width": null
          }
        },
        "67bb831fad5c4230981b27f0f4f7f6d9": {
          "model_module": "@jupyter-widgets/controls",
          "model_name": "DescriptionStyleModel",
          "model_module_version": "1.5.0",
          "state": {
            "_model_module": "@jupyter-widgets/controls",
            "_model_module_version": "1.5.0",
            "_model_name": "DescriptionStyleModel",
            "_view_count": null,
            "_view_module": "@jupyter-widgets/base",
            "_view_module_version": "1.2.0",
            "_view_name": "StyleView",
            "description_width": ""
          }
        },
        "d7b78581d05041669d95a8f5ff71e7bb": {
          "model_module": "@jupyter-widgets/base",
          "model_name": "LayoutModel",
          "model_module_version": "1.2.0",
          "state": {
            "_model_module": "@jupyter-widgets/base",
            "_model_module_version": "1.2.0",
            "_model_name": "LayoutModel",
            "_view_count": null,
            "_view_module": "@jupyter-widgets/base",
            "_view_module_version": "1.2.0",
            "_view_name": "LayoutView",
            "align_content": null,
            "align_items": null,
            "align_self": null,
            "border": null,
            "bottom": null,
            "display": null,
            "flex": null,
            "flex_flow": null,
            "grid_area": null,
            "grid_auto_columns": null,
            "grid_auto_flow": null,
            "grid_auto_rows": null,
            "grid_column": null,
            "grid_gap": null,
            "grid_row": null,
            "grid_template_areas": null,
            "grid_template_columns": null,
            "grid_template_rows": null,
            "height": null,
            "justify_content": null,
            "justify_items": null,
            "left": null,
            "margin": null,
            "max_height": null,
            "max_width": null,
            "min_height": null,
            "min_width": null,
            "object_fit": null,
            "object_position": null,
            "order": null,
            "overflow": null,
            "overflow_x": null,
            "overflow_y": null,
            "padding": null,
            "right": null,
            "top": null,
            "visibility": null,
            "width": null
          }
        },
        "095621b33d3e42319943097d8b6955fb": {
          "model_module": "@jupyter-widgets/controls",
          "model_name": "ProgressStyleModel",
          "model_module_version": "1.5.0",
          "state": {
            "_model_module": "@jupyter-widgets/controls",
            "_model_module_version": "1.5.0",
            "_model_name": "ProgressStyleModel",
            "_view_count": null,
            "_view_module": "@jupyter-widgets/base",
            "_view_module_version": "1.2.0",
            "_view_name": "StyleView",
            "bar_color": null,
            "description_width": ""
          }
        },
        "9114e825054844898b7ea1ee582d7980": {
          "model_module": "@jupyter-widgets/controls",
          "model_name": "VBoxModel",
          "model_module_version": "1.5.0",
          "state": {
            "_dom_classes": [],
            "_model_module": "@jupyter-widgets/controls",
            "_model_module_version": "1.5.0",
            "_model_name": "VBoxModel",
            "_view_count": null,
            "_view_module": "@jupyter-widgets/controls",
            "_view_module_version": "1.5.0",
            "_view_name": "VBoxView",
            "box_style": "",
            "children": [
              "IPY_MODEL_791b3a9ebd8a4ec08f607433cd45006f",
              "IPY_MODEL_0844178e3e7c4195be64bd65a9319784"
            ],
            "layout": "IPY_MODEL_52e4de79a7fb4cc8a6c5d84b6a9fa692"
          }
        },
        "791b3a9ebd8a4ec08f607433cd45006f": {
          "model_module": "@jupyter-widgets/controls",
          "model_name": "LabelModel",
          "model_module_version": "1.5.0",
          "state": {
            "_dom_classes": [],
            "_model_module": "@jupyter-widgets/controls",
            "_model_module_version": "1.5.0",
            "_model_name": "LabelModel",
            "_view_count": null,
            "_view_module": "@jupyter-widgets/controls",
            "_view_module_version": "1.5.0",
            "_view_name": "LabelView",
            "description": "",
            "description_tooltip": null,
            "layout": "IPY_MODEL_a50199c9ab6d44a0bd50262d6c5148d0",
            "placeholder": "​",
            "style": "IPY_MODEL_680051de0dcf4e31b77ac43aec1523e8",
            "value": "0.001 MB of 0.009 MB uploaded (0.000 MB deduped)\r"
          }
        },
        "0844178e3e7c4195be64bd65a9319784": {
          "model_module": "@jupyter-widgets/controls",
          "model_name": "FloatProgressModel",
          "model_module_version": "1.5.0",
          "state": {
            "_dom_classes": [],
            "_model_module": "@jupyter-widgets/controls",
            "_model_module_version": "1.5.0",
            "_model_name": "FloatProgressModel",
            "_view_count": null,
            "_view_module": "@jupyter-widgets/controls",
            "_view_module_version": "1.5.0",
            "_view_name": "ProgressView",
            "bar_style": "",
            "description": "",
            "description_tooltip": null,
            "layout": "IPY_MODEL_6ae083d02a8d424cbb7f4629da0eb64b",
            "max": 1,
            "min": 0,
            "orientation": "horizontal",
            "style": "IPY_MODEL_cd55166f4d964e8bb275422934dbceb8",
            "value": 0.1067859021567596
          }
        },
        "52e4de79a7fb4cc8a6c5d84b6a9fa692": {
          "model_module": "@jupyter-widgets/base",
          "model_name": "LayoutModel",
          "model_module_version": "1.2.0",
          "state": {
            "_model_module": "@jupyter-widgets/base",
            "_model_module_version": "1.2.0",
            "_model_name": "LayoutModel",
            "_view_count": null,
            "_view_module": "@jupyter-widgets/base",
            "_view_module_version": "1.2.0",
            "_view_name": "LayoutView",
            "align_content": null,
            "align_items": null,
            "align_self": null,
            "border": null,
            "bottom": null,
            "display": null,
            "flex": null,
            "flex_flow": null,
            "grid_area": null,
            "grid_auto_columns": null,
            "grid_auto_flow": null,
            "grid_auto_rows": null,
            "grid_column": null,
            "grid_gap": null,
            "grid_row": null,
            "grid_template_areas": null,
            "grid_template_columns": null,
            "grid_template_rows": null,
            "height": null,
            "justify_content": null,
            "justify_items": null,
            "left": null,
            "margin": null,
            "max_height": null,
            "max_width": null,
            "min_height": null,
            "min_width": null,
            "object_fit": null,
            "object_position": null,
            "order": null,
            "overflow": null,
            "overflow_x": null,
            "overflow_y": null,
            "padding": null,
            "right": null,
            "top": null,
            "visibility": null,
            "width": null
          }
        },
        "a50199c9ab6d44a0bd50262d6c5148d0": {
          "model_module": "@jupyter-widgets/base",
          "model_name": "LayoutModel",
          "model_module_version": "1.2.0",
          "state": {
            "_model_module": "@jupyter-widgets/base",
            "_model_module_version": "1.2.0",
            "_model_name": "LayoutModel",
            "_view_count": null,
            "_view_module": "@jupyter-widgets/base",
            "_view_module_version": "1.2.0",
            "_view_name": "LayoutView",
            "align_content": null,
            "align_items": null,
            "align_self": null,
            "border": null,
            "bottom": null,
            "display": null,
            "flex": null,
            "flex_flow": null,
            "grid_area": null,
            "grid_auto_columns": null,
            "grid_auto_flow": null,
            "grid_auto_rows": null,
            "grid_column": null,
            "grid_gap": null,
            "grid_row": null,
            "grid_template_areas": null,
            "grid_template_columns": null,
            "grid_template_rows": null,
            "height": null,
            "justify_content": null,
            "justify_items": null,
            "left": null,
            "margin": null,
            "max_height": null,
            "max_width": null,
            "min_height": null,
            "min_width": null,
            "object_fit": null,
            "object_position": null,
            "order": null,
            "overflow": null,
            "overflow_x": null,
            "overflow_y": null,
            "padding": null,
            "right": null,
            "top": null,
            "visibility": null,
            "width": null
          }
        },
        "680051de0dcf4e31b77ac43aec1523e8": {
          "model_module": "@jupyter-widgets/controls",
          "model_name": "DescriptionStyleModel",
          "model_module_version": "1.5.0",
          "state": {
            "_model_module": "@jupyter-widgets/controls",
            "_model_module_version": "1.5.0",
            "_model_name": "DescriptionStyleModel",
            "_view_count": null,
            "_view_module": "@jupyter-widgets/base",
            "_view_module_version": "1.2.0",
            "_view_name": "StyleView",
            "description_width": ""
          }
        },
        "6ae083d02a8d424cbb7f4629da0eb64b": {
          "model_module": "@jupyter-widgets/base",
          "model_name": "LayoutModel",
          "model_module_version": "1.2.0",
          "state": {
            "_model_module": "@jupyter-widgets/base",
            "_model_module_version": "1.2.0",
            "_model_name": "LayoutModel",
            "_view_count": null,
            "_view_module": "@jupyter-widgets/base",
            "_view_module_version": "1.2.0",
            "_view_name": "LayoutView",
            "align_content": null,
            "align_items": null,
            "align_self": null,
            "border": null,
            "bottom": null,
            "display": null,
            "flex": null,
            "flex_flow": null,
            "grid_area": null,
            "grid_auto_columns": null,
            "grid_auto_flow": null,
            "grid_auto_rows": null,
            "grid_column": null,
            "grid_gap": null,
            "grid_row": null,
            "grid_template_areas": null,
            "grid_template_columns": null,
            "grid_template_rows": null,
            "height": null,
            "justify_content": null,
            "justify_items": null,
            "left": null,
            "margin": null,
            "max_height": null,
            "max_width": null,
            "min_height": null,
            "min_width": null,
            "object_fit": null,
            "object_position": null,
            "order": null,
            "overflow": null,
            "overflow_x": null,
            "overflow_y": null,
            "padding": null,
            "right": null,
            "top": null,
            "visibility": null,
            "width": null
          }
        },
        "cd55166f4d964e8bb275422934dbceb8": {
          "model_module": "@jupyter-widgets/controls",
          "model_name": "ProgressStyleModel",
          "model_module_version": "1.5.0",
          "state": {
            "_model_module": "@jupyter-widgets/controls",
            "_model_module_version": "1.5.0",
            "_model_name": "ProgressStyleModel",
            "_view_count": null,
            "_view_module": "@jupyter-widgets/base",
            "_view_module_version": "1.2.0",
            "_view_name": "StyleView",
            "bar_color": null,
            "description_width": ""
          }
        },
        "dbb9f581e7d04f69a596de36155f0319": {
          "model_module": "@jupyter-widgets/controls",
          "model_name": "VBoxModel",
          "model_module_version": "1.5.0",
          "state": {
            "_dom_classes": [],
            "_model_module": "@jupyter-widgets/controls",
            "_model_module_version": "1.5.0",
            "_model_name": "VBoxModel",
            "_view_count": null,
            "_view_module": "@jupyter-widgets/controls",
            "_view_module_version": "1.5.0",
            "_view_name": "VBoxView",
            "box_style": "",
            "children": [
              "IPY_MODEL_d54ba0ce323a4d2486afb23da165413b",
              "IPY_MODEL_5bfc41260bb341ed95b8fe04dccfe0e4"
            ],
            "layout": "IPY_MODEL_4b9abf7dbdb545678004b2e6d27a21a8"
          }
        },
        "d54ba0ce323a4d2486afb23da165413b": {
          "model_module": "@jupyter-widgets/controls",
          "model_name": "LabelModel",
          "model_module_version": "1.5.0",
          "state": {
            "_dom_classes": [],
            "_model_module": "@jupyter-widgets/controls",
            "_model_module_version": "1.5.0",
            "_model_name": "LabelModel",
            "_view_count": null,
            "_view_module": "@jupyter-widgets/controls",
            "_view_module_version": "1.5.0",
            "_view_name": "LabelView",
            "description": "",
            "description_tooltip": null,
            "layout": "IPY_MODEL_f2d8a1eb0c0848c0b005b6ad87fb9c84",
            "placeholder": "​",
            "style": "IPY_MODEL_1da53eeebf804b37b00044cc7ceac190",
            "value": "0.009 MB of 0.009 MB uploaded (0.000 MB deduped)\r"
          }
        },
        "5bfc41260bb341ed95b8fe04dccfe0e4": {
          "model_module": "@jupyter-widgets/controls",
          "model_name": "FloatProgressModel",
          "model_module_version": "1.5.0",
          "state": {
            "_dom_classes": [],
            "_model_module": "@jupyter-widgets/controls",
            "_model_module_version": "1.5.0",
            "_model_name": "FloatProgressModel",
            "_view_count": null,
            "_view_module": "@jupyter-widgets/controls",
            "_view_module_version": "1.5.0",
            "_view_name": "ProgressView",
            "bar_style": "",
            "description": "",
            "description_tooltip": null,
            "layout": "IPY_MODEL_6ccc6cba3c4541faae8de477d1178892",
            "max": 1,
            "min": 0,
            "orientation": "horizontal",
            "style": "IPY_MODEL_a39ec59816924b689c4abcb599a16a88",
            "value": 1
          }
        },
        "4b9abf7dbdb545678004b2e6d27a21a8": {
          "model_module": "@jupyter-widgets/base",
          "model_name": "LayoutModel",
          "model_module_version": "1.2.0",
          "state": {
            "_model_module": "@jupyter-widgets/base",
            "_model_module_version": "1.2.0",
            "_model_name": "LayoutModel",
            "_view_count": null,
            "_view_module": "@jupyter-widgets/base",
            "_view_module_version": "1.2.0",
            "_view_name": "LayoutView",
            "align_content": null,
            "align_items": null,
            "align_self": null,
            "border": null,
            "bottom": null,
            "display": null,
            "flex": null,
            "flex_flow": null,
            "grid_area": null,
            "grid_auto_columns": null,
            "grid_auto_flow": null,
            "grid_auto_rows": null,
            "grid_column": null,
            "grid_gap": null,
            "grid_row": null,
            "grid_template_areas": null,
            "grid_template_columns": null,
            "grid_template_rows": null,
            "height": null,
            "justify_content": null,
            "justify_items": null,
            "left": null,
            "margin": null,
            "max_height": null,
            "max_width": null,
            "min_height": null,
            "min_width": null,
            "object_fit": null,
            "object_position": null,
            "order": null,
            "overflow": null,
            "overflow_x": null,
            "overflow_y": null,
            "padding": null,
            "right": null,
            "top": null,
            "visibility": null,
            "width": null
          }
        },
        "f2d8a1eb0c0848c0b005b6ad87fb9c84": {
          "model_module": "@jupyter-widgets/base",
          "model_name": "LayoutModel",
          "model_module_version": "1.2.0",
          "state": {
            "_model_module": "@jupyter-widgets/base",
            "_model_module_version": "1.2.0",
            "_model_name": "LayoutModel",
            "_view_count": null,
            "_view_module": "@jupyter-widgets/base",
            "_view_module_version": "1.2.0",
            "_view_name": "LayoutView",
            "align_content": null,
            "align_items": null,
            "align_self": null,
            "border": null,
            "bottom": null,
            "display": null,
            "flex": null,
            "flex_flow": null,
            "grid_area": null,
            "grid_auto_columns": null,
            "grid_auto_flow": null,
            "grid_auto_rows": null,
            "grid_column": null,
            "grid_gap": null,
            "grid_row": null,
            "grid_template_areas": null,
            "grid_template_columns": null,
            "grid_template_rows": null,
            "height": null,
            "justify_content": null,
            "justify_items": null,
            "left": null,
            "margin": null,
            "max_height": null,
            "max_width": null,
            "min_height": null,
            "min_width": null,
            "object_fit": null,
            "object_position": null,
            "order": null,
            "overflow": null,
            "overflow_x": null,
            "overflow_y": null,
            "padding": null,
            "right": null,
            "top": null,
            "visibility": null,
            "width": null
          }
        },
        "1da53eeebf804b37b00044cc7ceac190": {
          "model_module": "@jupyter-widgets/controls",
          "model_name": "DescriptionStyleModel",
          "model_module_version": "1.5.0",
          "state": {
            "_model_module": "@jupyter-widgets/controls",
            "_model_module_version": "1.5.0",
            "_model_name": "DescriptionStyleModel",
            "_view_count": null,
            "_view_module": "@jupyter-widgets/base",
            "_view_module_version": "1.2.0",
            "_view_name": "StyleView",
            "description_width": ""
          }
        },
        "6ccc6cba3c4541faae8de477d1178892": {
          "model_module": "@jupyter-widgets/base",
          "model_name": "LayoutModel",
          "model_module_version": "1.2.0",
          "state": {
            "_model_module": "@jupyter-widgets/base",
            "_model_module_version": "1.2.0",
            "_model_name": "LayoutModel",
            "_view_count": null,
            "_view_module": "@jupyter-widgets/base",
            "_view_module_version": "1.2.0",
            "_view_name": "LayoutView",
            "align_content": null,
            "align_items": null,
            "align_self": null,
            "border": null,
            "bottom": null,
            "display": null,
            "flex": null,
            "flex_flow": null,
            "grid_area": null,
            "grid_auto_columns": null,
            "grid_auto_flow": null,
            "grid_auto_rows": null,
            "grid_column": null,
            "grid_gap": null,
            "grid_row": null,
            "grid_template_areas": null,
            "grid_template_columns": null,
            "grid_template_rows": null,
            "height": null,
            "justify_content": null,
            "justify_items": null,
            "left": null,
            "margin": null,
            "max_height": null,
            "max_width": null,
            "min_height": null,
            "min_width": null,
            "object_fit": null,
            "object_position": null,
            "order": null,
            "overflow": null,
            "overflow_x": null,
            "overflow_y": null,
            "padding": null,
            "right": null,
            "top": null,
            "visibility": null,
            "width": null
          }
        },
        "a39ec59816924b689c4abcb599a16a88": {
          "model_module": "@jupyter-widgets/controls",
          "model_name": "ProgressStyleModel",
          "model_module_version": "1.5.0",
          "state": {
            "_model_module": "@jupyter-widgets/controls",
            "_model_module_version": "1.5.0",
            "_model_name": "ProgressStyleModel",
            "_view_count": null,
            "_view_module": "@jupyter-widgets/base",
            "_view_module_version": "1.2.0",
            "_view_name": "StyleView",
            "bar_color": null,
            "description_width": ""
          }
        }
      }
    }
  },
  "cells": [
    {
      "cell_type": "markdown",
      "metadata": {
        "id": "view-in-github",
        "colab_type": "text"
      },
      "source": [
        "<a href=\"https://colab.research.google.com/github/sid-betalol/CS6910-FODL-Assignment1/blob/main/cs6910_assignment1.ipynb\" target=\"_parent\"><img src=\"https://colab.research.google.com/assets/colab-badge.svg\" alt=\"Open In Colab\"/></a>"
      ]
    },
    {
      "cell_type": "markdown",
      "source": [
        "### To add\n",
        "1. adding wandb logger\n",
        "2. breaking the notebook down to scripts based on code implementation instructions\n",
        "3. early stopping if possible"
      ],
      "metadata": {
        "id": "rsp6oW-6BWSA"
      }
    },
    {
      "cell_type": "markdown",
      "source": [
        "###**wandb setup**"
      ],
      "metadata": {
        "id": "UXBbDC-D1uSd"
      }
    },
    {
      "cell_type": "code",
      "source": [
        "# !pip install wandb"
      ],
      "metadata": {
        "id": "d2bVSz0P1tq2"
      },
      "execution_count": 1,
      "outputs": []
    },
    {
      "cell_type": "code",
      "source": [
        "import wandb"
      ],
      "metadata": {
        "id": "5Zj3_pOH2rHN"
      },
      "execution_count": 2,
      "outputs": []
    },
    {
      "cell_type": "markdown",
      "source": [
        "###**Importing the required libraries**\n"
      ],
      "metadata": {
        "id": "x6kDAiJ-rLaO"
      }
    },
    {
      "cell_type": "code",
      "execution_count": 3,
      "metadata": {
        "id": "ubdkSrjvntI_"
      },
      "outputs": [],
      "source": [
        "import numpy as np\n",
        "import pandas as pd\n",
        "import matplotlib.pyplot as plt"
      ]
    },
    {
      "cell_type": "markdown",
      "source": [
        "##**Template Class for Activation Functions**"
      ],
      "metadata": {
        "id": "laYjy3tu38b8"
      }
    },
    {
      "cell_type": "code",
      "source": [
        "class daddyActivation():\n",
        "    def __init__(self, *args, **kwargs):\n",
        "        \"\"\"\n",
        "        Constructor\n",
        "        \"\"\"\n",
        "        self.grads = {}\n",
        "        self.backprop_cache = {}\n",
        "\n",
        "    def __call__(self, *args, **kwargs):\n",
        "        \"\"\"\n",
        "        Calling the class as a function instance\n",
        "        does a forward and a backward pass\n",
        "        \"\"\"\n",
        "        op = self.forward(*args, **kwargs)\n",
        "        self.grads = self.calc_grads(*args, **kwargs)\n",
        "        return op\n",
        "\n",
        "    def forward(self, *args, **kwargs):\n",
        "        \"\"\"\n",
        "        Defining the forward pass of the activation function\n",
        "        \"\"\"\n",
        "        pass\n",
        "    \n",
        "    def calc_grads(self, *args, **kwargs):\n",
        "        \"\"\"\n",
        "        Calculates the gradient of the activation function\n",
        "        with respect to its input\n",
        "        \"\"\"\n",
        "        pass\n",
        "    \n",
        "    def backward(self, *args, **kwargs):\n",
        "        \"\"\" \n",
        "        Calculates the gradients of the loss with respect \n",
        "        to the input of the activation function, using the gradients \n",
        "        computed in the calc_grads method\n",
        "        \"\"\"\n",
        "        pass"
      ],
      "metadata": {
        "id": "CU2DS6L1m9zW"
      },
      "execution_count": 4,
      "outputs": []
    },
    {
      "cell_type": "markdown",
      "source": [
        "###**Activation Functions**"
      ],
      "metadata": {
        "id": "gxsAOGqd_grh"
      }
    },
    {
      "cell_type": "code",
      "source": [
        "class Sigmoid(daddyActivation):\n",
        "    \n",
        "    def __init__(self):\n",
        "        \n",
        "        super().__init__()\n",
        "\n",
        "    def forward(self, x):\n",
        "        \n",
        "        self.backprop_cache = 1/(1+np.exp(-x))\n",
        "        return self.backprop_cache\n",
        "\n",
        "    def calc_grads(self, x):\n",
        "        \n",
        "        id = \"x\"\n",
        "        y = self.backprop_cache\n",
        "        diff = y*(1-y)\n",
        "        return {id:diff}\n",
        "\n",
        "    def backward(self, y_hat):\n",
        "        \n",
        "        return self.grads['x']*y_hat\n",
        "\n",
        "\n",
        "class Tanh(daddyActivation):\n",
        "    \n",
        "    def __init__(self):\n",
        "        \n",
        "        super().__init__()\n",
        "\n",
        "    def forward(self, x):\n",
        "        \n",
        "        self.backprop_cache = (np.exp(x) - np.exp(-x))/(np.exp(-x)+np.exp(x))\n",
        "        return self.backprop_cache\n",
        "\n",
        "    def calc_grads(self, x):\n",
        "        \n",
        "        id = \"x\"\n",
        "        y = self.backprop_cache\n",
        "        diff = 1- y**2\n",
        "        return {id:diff}\n",
        "\n",
        "    def backward(self, y_hat):\n",
        "        \n",
        "        return self.grads['x']*y_hat\n",
        "\n",
        "\n",
        "class ReLU(daddyActivation):\n",
        "\n",
        "    def __init__(self):\n",
        "        \n",
        "        super().__init__()\n",
        "\n",
        "    def forward(self, x):\n",
        "        \n",
        "        self.backprop_cache = np.maximum(x, 0.0)\n",
        "        return self.backprop_cache\n",
        "\n",
        "    def calc_grads(self,x):\n",
        "        \n",
        "        id = \"x\"\n",
        "        y = self.backprop_cache\n",
        "        diff = (y > 0).astype(\"float\")\n",
        "        return {id:diff}\n",
        "\n",
        "    def backward(self, y_hat):\n",
        "        \n",
        "        return self.grads['x']*y_hat\n",
        "\n",
        "\n",
        "class LeakyReLU(daddyActivation):\n",
        "    \n",
        "    def __init__(self, alpha=0.1):\n",
        "        super().__init__()\n",
        "        self.alpha = alpha\n",
        "    \n",
        "    def forward(self, x):\n",
        "        self.backprop_cache = np.maximum(x, self.alpha*x)\n",
        "        return self.backprop_cache\n",
        "    \n",
        "    def calc_grads(self, x):\n",
        "        id = \"x\"\n",
        "        y = self.backprop_cache\n",
        "        diff = np.where(y > 0, 1, self.alpha)\n",
        "        return {id: diff}\n",
        "    \n",
        "    def backward(self, y_hat):\n",
        "        return self.grads['x']*y_hat"
      ],
      "metadata": {
        "id": "CvyVwHGJ_khG"
      },
      "execution_count": 5,
      "outputs": []
    },
    {
      "cell_type": "markdown",
      "source": [
        "##**Template Class for Loss Functions**"
      ],
      "metadata": {
        "id": "rUlqWLbBkXcP"
      }
    },
    {
      "cell_type": "code",
      "source": [
        "class daddyLoss():\n",
        "    \n",
        "    def __init__(self, *args, **kwargs):\n",
        "        \n",
        "        self.grads = {}\n",
        "        self.backprop_cache = {}\n",
        "\n",
        "    def __call__(self, y_pred, y_true, *args, **kwargs):\n",
        "        \n",
        "        op = self.forward(y_pred, y_true, *args, **kwargs)\n",
        "        self.grads = self.calc_grads(y_pred, y_true, *args, **kwargs)\n",
        "        return op\n",
        "\n",
        "    def forward(self, y_pred, y_true, *args, **kwargs):\n",
        "        \n",
        "        pass\n",
        "\n",
        "    def calc_grads(self, y_pred, y_true, *args, **kwargs):\n",
        "        \n",
        "        pass\n",
        "\n",
        "    def backward(self, *args, **kwargs):\n",
        "        \n",
        "        return self.grads['x']"
      ],
      "metadata": {
        "id": "0N-qVwkxkWc7"
      },
      "execution_count": 6,
      "outputs": []
    },
    {
      "cell_type": "markdown",
      "source": [
        "###**Helper Functions for Loss (Output Function: Softmax)**"
      ],
      "metadata": {
        "id": "Jpn3O1KiK0Wd"
      }
    },
    {
      "cell_type": "code",
      "source": [
        "# softmax will be used for the output layer\n",
        "def softmax(x):\n",
        "    exp_x = np.exp(x - np.max(x, axis= -1, keepdims=True))\n",
        "    return exp_x/ np.sum(exp_x, axis = -1, keepdims=True)"
      ],
      "metadata": {
        "id": "-ko_4bhQLBOf"
      },
      "execution_count": 7,
      "outputs": []
    },
    {
      "cell_type": "markdown",
      "source": [
        "###**Loss Functions**"
      ],
      "metadata": {
        "id": "XadNpcKoJhA-"
      }
    },
    {
      "cell_type": "code",
      "source": [
        "class MSE(daddyLoss):\n",
        "    \n",
        "    def __init__(self):\n",
        "        \n",
        "        super().__init__()\n",
        "\n",
        "    def forward(self, y_pred, y_true):\n",
        "        \n",
        "        num_classes = y_pred.shape[-1]\n",
        "        probabs = softmax(y_pred)\n",
        "        y_true_encoding = np.eye(num_classes, dtype = int)[np.array(y_true).astype(int)]\n",
        "        self.backprop_cache['y_true'] = y_true_encoding\n",
        "        loss = np.mean(np.sum((probabs - y_true_encoding)**2, axis=1))\n",
        "        self.backprop_cache['probabs'] = probabs\n",
        "        return loss\n",
        "\n",
        "    def calc_grads(self, y_pred, y_true):\n",
        "        \n",
        "        batch_size = y_pred.shape[0]\n",
        "        grad = 2*(self.backprop_cache[\"probabs\"] - self.backprop_cache[\"y_true\"])\n",
        "        grad = grad/batch_size\n",
        "        return {'x': grad}\n",
        "\n",
        "class LogLoss(daddyLoss):\n",
        "\n",
        "    def __init__(self):\n",
        "        \n",
        "        super().__init__()\n",
        "\n",
        "    def forward(self, y_pred, y_true):\n",
        "        \n",
        "        num_classes = y_pred.shape[-1]\n",
        "        probabs = softmax(y_pred)\n",
        "        y_true_encoding = np.eye(num_classes, dtype = int)[np.array(y_true).astype(int)]\n",
        "        self.backprop_cache['y_true'] = y_true_encoding\n",
        "        loss = np.mean(- np.log(probabs[np.arange(y_pred.shape[0]), y_true] + 1e-16))\n",
        "        self.backprop_cache['probabs'] = probabs\n",
        "        return loss\n",
        "\n",
        "    def calc_grads(self, y_pred, y_true):\n",
        "        \n",
        "        batch_size = y_pred.shape[0]\n",
        "        grad = self.backprop_cache[\"probabs\"] - self.backprop_cache[\"y_true\"]\n",
        "        grad = grad/batch_size\n",
        "        return {'x':grad}"
      ],
      "metadata": {
        "id": "osa8tbHYItyw"
      },
      "execution_count": 8,
      "outputs": []
    },
    {
      "cell_type": "markdown",
      "source": [
        "##**Template Class for Optimizers**"
      ],
      "metadata": {
        "id": "CkeWScoNsLQO"
      }
    },
    {
      "cell_type": "code",
      "source": [
        "class daddyOptimizer():\n",
        "    \n",
        "    def __init__(self, *args, **kwargs):\n",
        "        \n",
        "        self.history = {}\n",
        "        pass\n",
        "\n",
        "    def update_weights(self, layer, *args, **kwargs):\n",
        "        \n",
        "        update = self.calc_update(layer)\n",
        "        for k, v in layer.weights.items():\n",
        "            layer.weights[k] = layer.weights[k] + update[k]\n",
        "\n",
        "    def calc_update(self, layer, *args, **kwargs):\n",
        "        #needs to be overloaded based on the optimizer\n",
        "        pass"
      ],
      "metadata": {
        "id": "T9CIiomunxay"
      },
      "execution_count": 9,
      "outputs": []
    },
    {
      "cell_type": "markdown",
      "source": [
        "###**Optimizers**\n",
        "SGD update rule: https://iitm-pod.slides.com/arunprakash_ai/cs6910-lecture-5#/0/56/7\n",
        "\n",
        "Momentum Update Rule: https://iitm-pod.slides.com/arunprakash_ai/cs6910-lecture-5#/0/40/7\n",
        "\n",
        "NAG Update Rule: https://iitm-pod.slides.com/arunprakash_ai/cs6910-lecture-5#/0/50/7\n",
        "\n",
        "Simplied NAG Update Rule: \n",
        "1. [ADVANCES IN OPTIMIZING RECURRENT NETWORKS, Bengio et al.](https://arxiv.org/pdf/1212.0901.pdf); \n",
        "2. [Sections 7.1 and 7.2 of Ilya Sutskever's PhD. Thesis: TRAINING RECURRENT NEURAL NETWORKS](https://www.cs.utoronto.ca/~ilya/pubs/ilya_sutskever_phd_thesis.pdf); \n",
        "3. Brief Mathematical Intuition: [Neural Network Nesterov Momentum by James D. McCaffrey](https://jamesmccaffrey.wordpress.com/2017/07/24/neural-network-nesterov-momentum/);\n",
        "4. [Various Formulations of NAG](https://jlmelville.github.io/mize/nesterov.html)\n",
        "\n",
        "RMSProp Update Rule: https://iitm-pod.slides.com/arunprakash_ai/cs6910-lecture-52#/0/18/5\n",
        "\n",
        "Adam Update Rule: https://iitm-pod.slides.com/arunprakash_ai/cs6910-lecture-52#/0/40/10\n",
        "\n",
        "NAdam Update Rule: https://iitm-pod.slides.com/arunprakash_ai/cs6910-lecture-52#/0/68\n",
        "\n",
        "Add a comment to remark about bias correction in Adam/NAdam\n",
        "\n",
        "Summary of optimizers: https://blog.paperspace.com/intro-to-optimization-momentum-rmsprop-adam/"
      ],
      "metadata": {
        "id": "cWNHruzT_2vZ"
      }
    },
    {
      "cell_type": "code",
      "source": [
        "class SGD(daddyOptimizer):\n",
        "\n",
        "    def __init__(self, learning_rate = 0.001):\n",
        "\n",
        "        super().__init__()\n",
        "        self.learning_rate = learning_rate\n",
        "\n",
        "    def calc_update(self, layer):\n",
        "\n",
        "        update = {}\n",
        "        for k,v in layer.weights.items():\n",
        "            update[k] = -self.learning_rate*layer.del_theta[k]\n",
        "        return update\n",
        "\n",
        "class Momentum(daddyOptimizer):\n",
        "\n",
        "    def __init__(self, learning_rate = 0.001, beta = 0.9):\n",
        "\n",
        "        super().__init__()\n",
        "        self.learning_rate = learning_rate\n",
        "        self.beta = beta\n",
        "\n",
        "    def calc_update(self, layer):\n",
        "\n",
        "        update = {}\n",
        "        \n",
        "        for k, v in layer.weights.items():\n",
        "            if layer.__str__() + k in self.history.keys():\n",
        "                self.history[layer.__str__() + k]['u'] = self.beta*self.history[layer.__str__() + k]['u'] + self.learning_rate*layer.del_theta[k]\n",
        "                \n",
        "            else:\n",
        "                self.history[layer.__str__() + k] = {}\n",
        "                self.history[layer.__str__() + k]['u'] = self.learning_rate*layer.del_theta[k]\n",
        "\n",
        "            update[k] = -self.history[layer.__str__() + k]['u']\n",
        "\n",
        "        return update\n",
        "\n",
        "class Nesterov(daddyOptimizer):\n",
        "    # Implemented Bengio Nesterov Momentum\n",
        "    # References:\n",
        "    # [ADVANCES IN OPTIMIZING RECURRENT NETWORKS, Bengio et al.](https://arxiv.org/pdf/1212.0901.pdf)\n",
        "    # [Sections 7.1 and 7.2 of Ilya Sutskever's PhD. Thesis: TRAINING RECURRENT NEURAL NETWORKS](https://www.cs.utoronto.ca/~ilya/pubs/ilya_sutskever_phd_thesis.pdf)\n",
        "    # Brief Mathematical Intuition: [Neural Network Nesterov Momentum by James D. McCaffrey](https://jamesmccaffrey.wordpress.com/2017/07/24/neural-network-nesterov-momentum/)\n",
        "    # [Various Formulations of NAG](https://jlmelville.github.io/mize/nesterov.html)\n",
        "\n",
        "    def __init__(self, learning_rate = 0.001, beta = 0.9):\n",
        "\n",
        "        super().__init__()\n",
        "        self.learning_rate = learning_rate\n",
        "        self.beta = beta\n",
        "\n",
        "    def calc_update(self, layer):\n",
        "\n",
        "        update = {}\n",
        "        for k, v in layer.weights.items():\n",
        "            if layer.__str__() + k in self.history.keys():\n",
        "                update[k] = self.beta*self.beta*self.history[layer.__str__() + k]['u'] - (1+self.beta)*self.learning_rate*layer.del_theta[k]\n",
        "            else:\n",
        "                self.history[layer.__str__() + k] = {}\n",
        "                self.history[layer.__str__() + k]['u'] = 0\n",
        "                update[k] = -self.learning_rate*layer.del_theta[k]\n",
        "            self.history[layer.__str__() + k]['u'] = self.beta*self.history[layer.__str__() + k]['u'] - self.learning_rate*layer.del_theta[k]\n",
        "\n",
        "        return update\n",
        "\n",
        "class RMSProp(daddyOptimizer):\n",
        "\n",
        "    def __init__(self, learning_rate = 0.001, beta = 0.9, epsilon = 1e-7):\n",
        "\n",
        "        super().__init__()\n",
        "        self.learning_rate = learning_rate\n",
        "        self.beta = beta\n",
        "        self.epsilon = epsilon\n",
        "\n",
        "    def calc_update(self, layer):\n",
        "\n",
        "        update = {}\n",
        "\n",
        "        for k,v in layer.weights.items():\n",
        "            if layer.__str__() + k in self.history.keys():\n",
        "                self.history[layer.__str__() + k]['u'] = self.beta*self.history[layer.__str__() + k]['u'] + (1 - self.beta)*(layer.del_theta[k]**2)\n",
        "            else:\n",
        "                self.history[layer.__str__() + k] = {}\n",
        "                self.history[layer.__str__() + k]['u'] = (1-self.beta)*(layer.del_theta[k]**2)\n",
        "                \n",
        "            sqrt_term = np.sqrt(self.history[layer.__str__() + k]['u'] + self.epsilon)\n",
        "            update[k] = -(self.learning_rate*layer.del_theta[k]/sqrt_term)\n",
        "\n",
        "        return update\n",
        "\n",
        "class Adam(daddyOptimizer):\n",
        "\n",
        "    def __init__(self, learning_rate = 0.001, epsilon = 1e-7, beta1 = 0.9, beta2 = 0.999):\n",
        "\n",
        "        super().__init__()\n",
        "        self.learning_rate = learning_rate\n",
        "        self.epsilon = epsilon\n",
        "        self.beta1 = beta1\n",
        "        self.beta2 = beta2\n",
        "        self.steps = 1\n",
        "\n",
        "    def calc_update(self, layer):\n",
        "\n",
        "        update = {}\n",
        "\n",
        "        for k,v in layer.weights.items():\n",
        "            if layer.__str__() + k in self.history.keys():\n",
        "                self.history[layer.__str__() + k]['m'] = self.beta1*self.history[layer.__str__() + k]['m'] + (1 - self.beta1)*layer.del_theta[k]\n",
        "                self.history[layer.__str__() + k]['u'] = self.beta2*self.history[layer.__str__() + k]['u'] + (1 - self.beta2)*(layer.del_theta[k]**2)\n",
        "\n",
        "            else:\n",
        "                self.history[layer.__str__() + k] = {}\n",
        "                self.history[layer.__str__() + k]['m'] = (1 - self.beta1)*layer.del_theta[k]\n",
        "                self.history[layer.__str__() + k]['u'] = (1 - self.beta2)*(layer.del_theta[k]**2)\n",
        "\n",
        "            corrected_avg = self.history[layer.__str__() + k]['m']/(1-(self.beta1)**self.steps)\n",
        "            corrected_squared_avg = self.history[layer.__str__() + k]['u']/(1-(self.beta2)**self.steps)\n",
        "\n",
        "            sqrt_term = np.sqrt(corrected_squared_avg) + self.epsilon\n",
        "            update[k] = -(self.learning_rate*corrected_avg/sqrt_term)\n",
        "\n",
        "        self.steps+=1\n",
        "        return update\n",
        "\n",
        "class NAdam(daddyOptimizer):\n",
        "\n",
        "    def __init__(self, learning_rate = 0.001, epsilon = 1e-7, beta1 = 0.9, beta2 = 0.999):\n",
        "\n",
        "        super().__init__()\n",
        "        self.learning_rate = learning_rate\n",
        "        self.epsilon = epsilon\n",
        "        self.beta1 = beta1\n",
        "        self.beta2 = beta2\n",
        "        self.steps = 1\n",
        "\n",
        "    def calc_update(self, layer):\n",
        "\n",
        "        update = {}\n",
        "\n",
        "        for k,v in layer.weights.items():\n",
        "            if layer.__str__() + k in self.history.keys():\n",
        "                self.history[layer.__str__() + k]['m'] = self.beta1*self.history[layer.__str__() + k]['m'] + (1 - self.beta1)*layer.del_theta[k]\n",
        "                self.history[layer.__str__() + k]['u'] = self.beta2*self.history[layer.__str__() + k]['u'] + (1 - self.beta2)*(layer.del_theta[k]**2)\n",
        "            else:\n",
        "                self.history[layer.__str__() + k] = {}\n",
        "                self.history[layer.__str__() + k]['m'] = (1 - self.beta1)*layer.del_theta[k]\n",
        "                self.history[layer.__str__() + k]['u'] = (1 - self.beta2)*(layer.del_theta[k]**2)\n",
        "\n",
        "            corrected_avg = self.history[layer.__str__() + k]['m']/(1-(self.beta1)**self.steps)\n",
        "            corrected_squared_avg = self.history[layer.__str__() + k]['u']/(1-(self.beta2)**self.steps)\n",
        "\n",
        "            sqrt_term = np.sqrt(corrected_squared_avg) + self.epsilon\n",
        "            delta_coeff = (1-self.beta1)/(1-self.beta1**self.steps)\n",
        "\n",
        "            update[k] = -((self.learning_rate/sqrt_term)*(self.beta1*corrected_avg + delta_coeff*layer.del_theta[k]))\n",
        "\n",
        "        self.steps+=1\n",
        "        return update"
      ],
      "metadata": {
        "id": "2qizv9Jo_2R2"
      },
      "execution_count": 10,
      "outputs": []
    },
    {
      "cell_type": "markdown",
      "source": [
        "##**Template Class for Layers**"
      ],
      "metadata": {
        "id": "AwGxKgDPVwg5"
      }
    },
    {
      "cell_type": "code",
      "source": [
        "class daddyLayer():\n",
        "\n",
        "    def __init__(self, *args, **kwargs):\n",
        "        \n",
        "        self.grads = {}\n",
        "        self.weights = {}\n",
        "        self.backprop_cache = {}\n",
        "        self.optimizer = None\n",
        "\n",
        "    def __call__(self, *args, **kwargs):\n",
        "\n",
        "        op = self.forward(*args, **kwargs)\n",
        "        self.grads = self.calc_grads(*args, **kwargs)\n",
        "        return op\n",
        "\n",
        "    def init_weights(self, *args, **kwargs):\n",
        "        pass\n",
        "\n",
        "    def forward(self, *args, **kwargs):\n",
        "        pass\n",
        "\n",
        "    def calc_grads(self, *args, **kwargs):\n",
        "        pass\n",
        "\n",
        "    def backward(self, *args, **kwargs):\n",
        "        pass\n",
        "\n",
        "    def update_weights(self, *args, **kwargs):\n",
        "        \n",
        "        self.optimizer.update_weights(self)"
      ],
      "metadata": {
        "id": "pBD1F-ogVwGP"
      },
      "execution_count": 11,
      "outputs": []
    },
    {
      "cell_type": "markdown",
      "source": [
        "####**Helper Functions (weight initialization)**"
      ],
      "metadata": {
        "id": "pyTYml-D-TQs"
      }
    },
    {
      "cell_type": "code",
      "source": [
        "def weight_initialization(init_method, in_dim, out_dim):\n",
        "    if init_method == 'random':\n",
        "        weights = np.random.randn(in_dim, out_dim)*np.sqrt(1.0/in_dim)\n",
        "        biases = np.random.randn(1, out_dim)*np.sqrt(1.0/in_dim)\n",
        "    elif init_method == 'xavier':\n",
        "        max = np.sqrt(6 / (in_dim + out_dim))\n",
        "        min = -max\n",
        "        weights = np.random.uniform(low = min, high = max, size = (in_dim, out_dim))\n",
        "        biases = np.random.uniform(low = min, high = max, size = (1, out_dim))\n",
        "    elif init_method == 'kaiming':\n",
        "        weights = np.random.randn(in_dim, out_dim) * np.sqrt(2.0/in_dim)\n",
        "        biases = np.random.randn(1, out_dim) * np.sqrt(2.0/in_dim)\n",
        "    return weights, biases"
      ],
      "metadata": {
        "id": "dN8JHGnF-jxT"
      },
      "execution_count": 12,
      "outputs": []
    },
    {
      "cell_type": "markdown",
      "source": [
        "###**Layers of a Feedforward neural network**\n",
        "reference used for xavier and kaiming initialization: https://towardsdatascience.com/weight-initialization-in-neural-networks-a-journey-from-the-basics-to-kaiming-954fb9b47c79"
      ],
      "metadata": {
        "id": "gXLzv-8d0mFh"
      }
    },
    {
      "cell_type": "code",
      "source": [
        "class FNNLayer(daddyLayer):\n",
        "    \n",
        "    def __init__(self, in_dim, out_dim, weight_decay = None, init_method = 'random'):\n",
        "\n",
        "        super().__init__()\n",
        "        self.in_dim = in_dim\n",
        "        self.out_dim = out_dim\n",
        "        self.weight_decay = weight_decay\n",
        "        self.init_method = init_method\n",
        "        self.init_weights()\n",
        "\n",
        "    def init_weights(self):\n",
        "\n",
        "        self.weights['w'], self.weights['b'] = weight_initialization(self.init_method, self.in_dim, self.out_dim)\n",
        "\n",
        "    def forward(self, x):\n",
        "\n",
        "        self.backprop_cache['x'] = x\n",
        "        op = np.einsum('ij,jk->ik', x, self.weights[\"w\"]) + self.weights[\"b\"]\n",
        "        return op\n",
        "\n",
        "    def calc_grads(self, x):\n",
        "\n",
        "        dels = {}\n",
        "        dels['w'] = np.einsum('ij -> ji', self.backprop_cache['x'])\n",
        "        dels['x'] = np.einsum('ij -> ji', self.weights['w'])\n",
        "\n",
        "        return dels\n",
        "\n",
        "    def backward(self, y_hat):\n",
        "      \n",
        "        x_hat = np.einsum('ij,jk->ik', y_hat, self.grads[\"x\"])\n",
        "        w_hat = np.einsum('ij,jk->ik', self.grads[\"w\"], y_hat)\n",
        "        \n",
        "        b_hat = np.sum(y_hat, axis=0, keepdims=True)\n",
        "        if self.weight_decay:\n",
        "            w_hat = w_hat + 2 * self.weight_decay * self.weights[\"w\"]\n",
        "            b_hat = b_hat + 2 * self.weight_decay * self.weights[\"b\"]\n",
        "        self.del_theta = {'w': w_hat, 'b': b_hat}\n",
        "        return x_hat\n",
        "\n",
        "    def update_weights(self):\n",
        "\n",
        "        self.optimizer.update_weights(self)"
      ],
      "metadata": {
        "id": "wvLupGE60xNy"
      },
      "execution_count": 13,
      "outputs": []
    },
    {
      "cell_type": "markdown",
      "source": [
        "## **Neural Network**"
      ],
      "metadata": {
        "id": "J5PcqX8_NaRU"
      }
    },
    {
      "cell_type": "markdown",
      "source": [
        "#### **Helper Functions**"
      ],
      "metadata": {
        "id": "n61KjfZzfjCQ"
      }
    },
    {
      "cell_type": "code",
      "source": [
        "def acc_score(true_labels, pred_labels):\n",
        "    return np.sum(true_labels == pred_labels)/len(true_labels)\n",
        "\n",
        "def deepcopy(arr):\n",
        "    \n",
        "    if isinstance(arr, np.ndarray):\n",
        "        return np.array([deepcopy(elem) for elem in arr])\n",
        "    else:\n",
        "        return arr\n",
        "\n",
        "def make_data_batches(X, Y, batch_size=32):\n",
        "        batches = []\n",
        "\n",
        "        for i in range(len(Y) // batch_size):\n",
        "            start_idx = batch_size * i\n",
        "            end_idx = batch_size * (i + 1)\n",
        "\n",
        "            batches.append([X[start_idx: end_idx], Y[start_idx: end_idx]])\n",
        "\n",
        "        # take care of the last batch which might have batch_size \n",
        "        # less than the specified one\n",
        "        if len(Y) % batch_size != 0:\n",
        "            batches.append([X[end_idx:], Y[end_idx:]])\n",
        "\n",
        "        return batches"
      ],
      "metadata": {
        "id": "TYgQAM0MfmI3"
      },
      "execution_count": 14,
      "outputs": []
    },
    {
      "cell_type": "code",
      "source": [
        "class NN():\n",
        "\n",
        "    def __init__(self, layers, log_wandb = True, *args, **kwargs):\n",
        "\n",
        "        self.layers = layers\n",
        "        self.history = []\n",
        "        self.log_wandb = log_wandb\n",
        "\n",
        "    def __call__(self, *args, **kwargs):\n",
        "\n",
        "        return self.forward(*args, **kwargs)\n",
        "\n",
        "    def compile(self, loss, optimizer, *args, **kwargs):\n",
        "\n",
        "        self.loss = loss\n",
        "        for layer in self.layers:\n",
        "            if (isinstance(layer, daddyLayer) or isinstance(layer, FNNLayer)) and layer.optimizer == None:\n",
        "                layer.optimizer = deepcopy(optimizer)\n",
        "    \n",
        "    def forward(self, x, *args, **kwargs):\n",
        "        \n",
        "        for layer in self.layers:\n",
        "            x = layer(x)\n",
        "        return x\n",
        "\n",
        "    def backward(self, *args, **kwargs):\n",
        "        \n",
        "        grad = self.loss.backward()\n",
        "        for layer in reversed(self.layers):\n",
        "            grad = layer.backward(grad)\n",
        "\n",
        "        return grad\n",
        "\n",
        "    def update_weights(self, *args, **kwargs):\n",
        "\n",
        "        for layer in reversed(self.layers):\n",
        "            if (isinstance(layer, daddyLayer) or isinstance(layer, FNNLayer)):\n",
        "                layer.update_weights()\n",
        "\n",
        "    def fit(self, X_train, Y_train, X_val, Y_val, batch_size = 32, epochs = 10):\n",
        "        \n",
        "        self.loss.num_classes = len(np.unique(Y_train))\n",
        "        tr_batch = make_data_batches(X_train, Y_train, batch_size=batch_size)\n",
        "        val_batch = make_data_batches(X_val, Y_val, batch_size=batch_size)\n",
        "        tr_batch_size = len(tr_batch)\n",
        "        val_batch_size = len(val_batch)\n",
        "\n",
        "        for epoch in range(1, epochs+1):\n",
        "\n",
        "            tr_loss = 0\n",
        "            tr_acc = 0\n",
        "\n",
        "            for X_t, Y_t in tr_batch:\n",
        "                preds = self(X_t)\n",
        "                tr_loss += self.loss(preds, Y_t)\n",
        "                tr_acc += acc_score(np.argmax(preds, axis = 1), Y_t)\n",
        "                self.backward()\n",
        "                self.update_weights()\n",
        "                \n",
        "            mean_tr_loss = tr_loss / tr_batch_size\n",
        "            mean_tr_acc = tr_acc / tr_batch_size\n",
        "            val_loss = 0\n",
        "            val_acc = 0\n",
        "\n",
        "            for X_v, Y_v in val_batch:\n",
        "                val_preds = self(X_v)\n",
        "                val_loss += self.loss(val_preds, Y_v)\n",
        "                val_acc += acc_score(np.argmax(val_preds, axis = 1), Y_v)\n",
        "\n",
        "            mean_val_loss = val_loss / val_batch_size\n",
        "            mean_val_acc = val_acc / val_batch_size\n",
        "\n",
        "            if not self.log_wandb:\n",
        "                print(f\"Epoch: {epoch} Train Loss: {mean_tr_loss} Train Accuracy: {mean_tr_acc} Validation Loss: {mean_val_loss} Validation Accuracy: {mean_val_acc}\")\n",
        "\n",
        "            self.history.append({\"Epoch\" : epoch, \"Train Loss\": mean_tr_loss,\"Train Accuracy\": mean_tr_acc,\"Val Loss\": mean_val_loss,\"Val Accuracy\": mean_val_acc})\n",
        "\n",
        "            if self.log_wandb:\n",
        "                wandb.log(self.history[-1])\n",
        "            \n",
        "        print('Model trained!')\n",
        "\n",
        "    def evaluate(self, X_test, Y_test):\n",
        "\n",
        "        preds = self(X_test)\n",
        "        test_loss = self.loss(preds, Y_test)\n",
        "        accuracy = acc_score(np.argmax(preds, axis = 1), Y_test)\n",
        "\n",
        "        print(f\"Test loss: {test_loss} Test accuracy: {accuracy}\")"
      ],
      "metadata": {
        "id": "Qn6WHdDmG1B-"
      },
      "execution_count": 15,
      "outputs": []
    },
    {
      "cell_type": "markdown",
      "source": [
        "###**Fashion MNIST**"
      ],
      "metadata": {
        "id": "gAoTzi5zlR3E"
      }
    },
    {
      "cell_type": "markdown",
      "source": [
        "####**Importing the data**"
      ],
      "metadata": {
        "id": "KdMIZUWm--I_"
      }
    },
    {
      "cell_type": "code",
      "source": [
        "from keras.datasets import fashion_mnist\n",
        "from sklearn.model_selection import train_test_split\n",
        "(X_train, Y_train), (X_test, Y_test) = fashion_mnist.load_data()\n",
        "\n",
        "# print('Train Data:')\n",
        "# print('X:', X_train.shape)\n",
        "# print('Y:', Y_train.shape)\n",
        "# print()\n",
        "# print('Test Data:')\n",
        "# print('X:', X_test.shape)\n",
        "# print('Y:', Y_test.shape)"
      ],
      "metadata": {
        "id": "D852M0s3lzSq"
      },
      "execution_count": 16,
      "outputs": []
    },
    {
      "cell_type": "markdown",
      "source": [
        "####**Classwise Sample from Data**"
      ],
      "metadata": {
        "id": "cenhCMmG_FM2"
      }
    },
    {
      "cell_type": "code",
      "source": [
        "!wandb login"
      ],
      "metadata": {
        "colab": {
          "base_uri": "https://localhost:8080/"
        },
        "id": "y3ZNw8uclRct",
        "outputId": "f591505c-a1e6-4a63-a186-4f1c7379c569"
      },
      "execution_count": 17,
      "outputs": [
        {
          "output_type": "stream",
          "name": "stdout",
          "text": [
            "\u001b[34m\u001b[1mwandb\u001b[0m: Currently logged in as: \u001b[33msidbetala\u001b[0m. Use \u001b[1m`wandb login --relogin`\u001b[0m to force relogin\n"
          ]
        }
      ]
    },
    {
      "cell_type": "code",
      "source": [
        "entity_name = 'sidbetala'\n",
        "project_name = 'cs6910-assignment1'"
      ],
      "metadata": {
        "id": "VjclJxRBlTzc"
      },
      "execution_count": 18,
      "outputs": []
    },
    {
      "cell_type": "code",
      "source": [
        "# Y_train is used instead of Y_test, as training data is expected\n",
        "# to have samples from every class unlike the test data\n",
        "num_labels = np.unique(Y_train).shape[0]\n",
        "# print(num_labels) ## prints 10 in accordance with the keras dataset\n",
        "labels = [\n",
        "    'T-shirt/top', \n",
        "    'Trouser', \n",
        "    'Pullover', \n",
        "    'Dress', \n",
        "    'Coat', \n",
        "    'Sandal', \n",
        "    'Shirt', \n",
        "    'Sneaker', \n",
        "    'Bag', \n",
        "    'Ankle boot',\n",
        "    ]\n",
        "def show_samples(n, X=X_train, Y=Y_train, num_classes=num_labels, classes=labels, num_images_per_class=5, log_wandb = False):\n",
        "    labelled_data = {i: X_train[Y_train==i] for i in range(num_classes)}\n",
        "    max_samples = {i: len(labelled_data[i]) for i in range(num_classes)}\n",
        "    shuffled_indices = {i: np.random.permutation(max_samples[i]) for i in range(num_classes)}\n",
        "    num_samples = {i: min(max_samples[i], n) for i in range(num_classes)}\n",
        "\n",
        "    if log_wandb:\n",
        "        # create a new WandB run\n",
        "        wandb.init(entity=entity_name,project=project_name, name=\"classwise_images\")\n",
        "        \n",
        "        # add images to WandB logs\n",
        "        for i in range(num_classes):\n",
        "            images = []\n",
        "            for j in range(num_images_per_class):\n",
        "                img = labelled_data[i][shuffled_indices[i][j]].astype(np.uint8).reshape(28, 28)\n",
        "                images.append(wandb.Image(img, caption = classes[i]))\n",
        "            wandb.log({f\"{classes[i]} ({num_images_per_class} samples)\": images})\n",
        "        # finish WandB run\n",
        "        wandb.finish()\n",
        "\n",
        "    fig, axs = plt.subplots(nrows=10, ncols=max(num_samples.values()), figsize=(1.2*max(num_samples.values()), 15))\n",
        "    for i in range(10):\n",
        "        for j in range(num_samples[i]):\n",
        "            img = labelled_data[i][shuffled_indices[i][j]].astype(np.uint8).reshape(28, 28)\n",
        "            axs[i, j].imshow(img, cmap=\"gray\")\n",
        "            axs[i, j].axis(\"off\")\n",
        "            axs[i, j].set_title(classes[i])\n",
        "    plt.show()"
      ],
      "metadata": {
        "id": "gRM6Vhtf_NT5"
      },
      "execution_count": 19,
      "outputs": []
    },
    {
      "cell_type": "code",
      "source": [
        "show_samples(15)"
      ],
      "metadata": {
        "colab": {
          "base_uri": "https://localhost:8080/",
          "height": 850
        },
        "id": "RuhlaVz0medE",
        "outputId": "a76228d7-6ecc-425e-f725-18bebd5deda2"
      },
      "execution_count": 20,
      "outputs": [
        {
          "output_type": "display_data",
          "data": {
            "text/plain": [
              "<Figure size 1296x1080 with 150 Axes>"
            ],
            "image/png": "[encoded data removed]"
          },
          "metadata": {
            "needs_background": "light"
          }
        }
      ]
    },
    {
      "cell_type": "markdown",
      "source": [
        "####**Helper Function for flattening the images**"
      ],
      "metadata": {
        "id": "HZECZD-W_P4z"
      }
    },
    {
      "cell_type": "code",
      "source": [
        "def flatten(arr):\n",
        "    arr = arr.reshape(arr.shape[0], -1)\n",
        "    return arr"
      ],
      "metadata": {
        "id": "_7gIV9BNlgYr"
      },
      "execution_count": 21,
      "outputs": []
    },
    {
      "cell_type": "markdown",
      "source": [
        "####**Preprocessing the data**"
      ],
      "metadata": {
        "id": "t3gm6P_v_W7C"
      }
    },
    {
      "cell_type": "code",
      "source": [
        "(X_train, Y_train), (X_test, Y_test) = fashion_mnist.load_data()\n",
        "X_train = X_train/255.0\n",
        "Y_train = Y_train\n",
        "X_train = flatten(X_train)\n",
        "X_test = flatten(X_test)/255.0\n",
        "X_tr, X_val, Y_tr, Y_val = train_test_split(X_train, Y_train, test_size=0.1, shuffle=True)"
      ],
      "metadata": {
        "id": "YCwlzkNxlRZa"
      },
      "execution_count": 22,
      "outputs": []
    },
    {
      "cell_type": "markdown",
      "source": [
        "####**Training and Testing the Neural Network Model**"
      ],
      "metadata": {
        "id": "wHdGl5-h_b5k"
      }
    },
    {
      "cell_type": "code",
      "source": [
        "model = NN([FNNLayer(784, 32, weight_decay = 0.0005, init_method = 'random'), Tanh(), \n",
        "            \n",
        "            FNNLayer(32, 32, weight_decay = 0.0005, init_method = 'random'), Tanh(),\n",
        "            FNNLayer(32, 32, weight_decay = 0.0005, init_method = 'random'), Tanh(),\n",
        "            FNNLayer(32, 32, weight_decay = 0.0005, init_method = 'random'), Tanh(),\n",
        "            FNNLayer(32, 32, weight_decay = 0.0005, init_method = 'random'), Tanh(),\n",
        "            FNNLayer(32, 32, weight_decay = 0.0005, init_method = 'random'), Tanh(),\n",
        "\n",
        "            FNNLayer(32, 10, weight_decay = 0.0005, init_method = 'random')], log_wandb = False)\n",
        "optimizer = Momentum(learning_rate = 0.001)\n",
        "loss = LogLoss()\n",
        "model.compile(loss, optimizer)\n",
        "model.fit(X_tr, Y_tr, X_val, Y_val, batch_size=32, epochs=5)\n",
        "model.evaluate(X_test, Y_test)"
      ],
      "metadata": {
        "id": "FXRrlmWunJ1a",
        "colab": {
          "base_uri": "https://localhost:8080/"
        },
        "outputId": "4c14b0a3-4389-4913-fd92-94d3a0e9bc71"
      },
      "execution_count": 23,
      "outputs": [
        {
          "output_type": "stream",
          "name": "stdout",
          "text": [
            "Epoch: 1 Train Loss: 0.9608727208876507 Train Accuracy: 0.6975155509478673 Validation Loss: 0.5746133544151006 Validation Accuracy: 0.807845744680851\n",
            "Epoch: 2 Train Loss: 0.5198984769862933 Train Accuracy: 0.8232005331753555 Validation Loss: 0.4656114259838042 Validation Accuracy: 0.8377659574468085\n",
            "Epoch: 3 Train Loss: 0.4523165208105856 Train Accuracy: 0.8433056872037915 Validation Loss: 0.42625370336594826 Validation Accuracy: 0.8490691489361702\n",
            "Epoch: 4 Train Loss: 0.4193907585108276 Train Accuracy: 0.8534508293838863 Validation Loss: 0.4103946177491127 Validation Accuracy: 0.8543882978723404\n",
            "Epoch: 5 Train Loss: 0.39800534988171 Train Accuracy: 0.8606153732227488 Validation Loss: 0.40063669529886536 Validation Accuracy: 0.8583776595744681\n",
            "Model trained!\n",
            "Test loss: 0.4350780935655611 Test accuracy: 0.8467\n"
          ]
        }
      ]
    },
    {
      "cell_type": "markdown",
      "source": [
        "###**Sweep Setup**"
      ],
      "metadata": {
        "id": "klVb72l-Nxx9"
      }
    },
    {
      "cell_type": "code",
      "source": [
        "activation_funcs = {'sigmoid': Sigmoid, 'tanh': Tanh, 'relu': ReLU, 'leakyrelu': LeakyReLU}\n",
        "\n",
        "loss_funcs = {'mean_squared_error': MSE, 'cross_entropy': LogLoss}\n",
        "\n",
        "def optimizer_func(opt, lr):\n",
        "    optimizer_map = {\"sgd\": SGD,\"momentum\":Momentum, \"nag\": Nesterov, \"rmsprop\":RMSProp, \"adam\": Adam, \"nadam\":NAdam}\n",
        "    if opt not in optimizer_map:\n",
        "        raise ValueError(\"Invalid optimizer name\")\n",
        "    optimizer_class = optimizer_map[opt]\n",
        "    optimizer = optimizer_class(learning_rate = lr)\n",
        "    return optimizer\n",
        "\n",
        "def make_network(num_layers, size_layer, act, reg, init_method):\n",
        "    layers = []\n",
        "\n",
        "    layers.extend([FNNLayer(784, size_layer, reg, init_method), activation_funcs[act]()])\n",
        "    for i in range(num_layers):\n",
        "        layers.extend([FNNLayer(size_layer,size_layer, reg, init_method), activation_funcs[act]()])\n",
        "    layers.append(FNNLayer(size_layer, 10, reg, init_method))\n",
        "    return layers\n",
        "\n",
        "def preprocess(train, test):\n",
        "    train = flatten(train)/255.0\n",
        "    test = flatten(test)/255.0\n",
        "    return train, test\n",
        "\n",
        "\n",
        "def sweep():\n",
        "    defaults = {\n",
        "        'epochs': 5,\n",
        "        'num_layers': 3,\n",
        "        'size_layer': 32,\n",
        "        'weight_decay': 0,\n",
        "        'learning_rate': 0.001,\n",
        "        'init_method': 'xavier',\n",
        "        'optimizer': 'sgd',\n",
        "        'batch_size': 16,\n",
        "        'activation': 'relu',\n",
        "        'loss': 'cross_entropy'\n",
        "        }\n",
        "    wandb.init(config = defaults, magic = True)\n",
        "    config = wandb.config\n",
        "    (tr_imgs, tr_labels), (test_imgs, test_labels) = fashion_mnist.load_data()\n",
        "    tr_imgs, test_imgs = preprocess(tr_imgs, test_imgs)\n",
        "    X_t, X_v, Y_t, Y_v = train_test_split(tr_imgs, tr_labels, test_size = 0.1, shuffle = True)\n",
        "    model = NN(make_network(config.num_layers, config.size_layer, config.activation, config.weight_decay, \\\n",
        "                            config.init_method))\n",
        "    model.compile(loss = loss_funcs[config.loss](), \\\n",
        "                  optimizer = optimizer_func(config.optimizer, config.learning_rate))\n",
        "    model.fit(X_t, Y_t, X_v, Y_v, batch_size = config.batch_size, epochs = config.epochs)\n",
        "    name1 = f'ep_{config.epochs}_hl_{config.num_layers}_hlsize_{config.size_layer}_'\n",
        "    name2 = f'wd_{config.weight_decay}_lr_{config.learning_rate}_winit_{config.init_method}_'\n",
        "    name3 = f'opt_{config.optimizer}_bs_{config.batch_size}_ac_{config.activation}_loss_{config.loss}'\n",
        "    sweep_name = name1+name2+name3\n",
        "    wandb.run.name = sweep_name\n",
        "    wandb.run.save()\n",
        "    wandb.run.finish()"
      ],
      "metadata": {
        "id": "b63ZY8bILqrx"
      },
      "execution_count": 24,
      "outputs": []
    },
    {
      "cell_type": "code",
      "source": [
        "hyperparameters = {\n",
        "      \"epochs\": {\n",
        "          'values': [5, 10]\n",
        "      },\n",
        "      \"num_layers\": {\n",
        "          'values' : [3, 4, 5]\n",
        "      },\n",
        "      \"size_layer\": {\n",
        "          'values' : [32, 64, 128]\n",
        "      },\n",
        "      \"weight_decay\": {\n",
        "          'values': [0, 0.0005, 0.001, 0.01]\n",
        "      },\n",
        "      \"learning_rate\":{\n",
        "        'values': [0.01, 0.001, 0.0001]\n",
        "      },\n",
        "      \"init_method\": {\n",
        "          'values' : ['random', 'xavier', 'kaiming']\n",
        "      },\n",
        "      \"optimizer\": {\n",
        "          'values': ['sgd', 'momentum', 'nag', 'rmsprop', 'adam', 'nadam']\n",
        "      },\n",
        "      \"batch_size\": {\n",
        "          'values': [32, 64, 128, 256]\n",
        "      },\n",
        "      \"activation\": {\n",
        "          'values': ['sigmoid','tanh','relu', 'leakyrelu']\n",
        "      },\n",
        "      \"loss\": {\n",
        "          'values': ['cross_entropy']\n",
        "      }\n",
        "  }"
      ],
      "metadata": {
        "id": "4PeeDre5eSai"
      },
      "execution_count": 25,
      "outputs": []
    },
    {
      "cell_type": "code",
      "source": [
        "sweep_configuration = {\n",
        "    'method': 'bayes',\n",
        "    'name': 'hyperparam_tuning_for_logloss',\n",
        "    'metric': {\n",
        "        'goal': 'maximize', \n",
        "        'name': \"Val Accuracy\"\n",
        "        },\n",
        "    'parameters': hyperparameters\n",
        "}"
      ],
      "metadata": {
        "id": "DwjrY4r6fiia"
      },
      "execution_count": 26,
      "outputs": []
    },
    {
      "cell_type": "code",
      "source": [
        "sweep_id = wandb.sweep(sweep_configuration, entity=entity_name, project=project_name)"
      ],
      "metadata": {
        "colab": {
          "base_uri": "https://localhost:8080/"
        },
        "id": "_g0himXInKDJ",
        "outputId": "d57b8d37-0532-4d41-b7b5-f36e79fb90d1"
      },
      "execution_count": 27,
      "outputs": [
        {
          "output_type": "stream",
          "name": "stdout",
          "text": [
            "Create sweep with ID: 3odgr0d7\n",
            "Sweep URL: https://wandb.ai/sidbetala/cs6910-assignment1/sweeps/3odgr0d7\n"
          ]
        }
      ]
    },
    {
      "cell_type": "code",
      "source": [
        "sweep_id = '3odgr0d7'"
      ],
      "metadata": {
        "id": "G0KphEaknRBI"
      },
      "execution_count": 28,
      "outputs": []
    },
    {
      "cell_type": "code",
      "source": [
        "wandb.agent(sweep_id, sweep, project = project_name, count = 100)"
      ],
      "metadata": {
        "colab": {
          "base_uri": "https://localhost:8080/",
          "height": 1000,
          "referenced_widgets": [
            "81ee18448e8d4575b90f1c435851da76",
            "b006cb082df247da9fb57f36926d234a",
            "42f6d71ea7e54b0ebc9611641c000bcb",
            "0ce9c7f74d964187b9e284087445367d",
            "d2bbb9d946154f538cdd23280f0ebf53",
            "67bb831fad5c4230981b27f0f4f7f6d9",
            "d7b78581d05041669d95a8f5ff71e7bb",
            "095621b33d3e42319943097d8b6955fb",
            "9114e825054844898b7ea1ee582d7980",
            "791b3a9ebd8a4ec08f607433cd45006f",
            "0844178e3e7c4195be64bd65a9319784",
            "52e4de79a7fb4cc8a6c5d84b6a9fa692",
            "a50199c9ab6d44a0bd50262d6c5148d0",
            "680051de0dcf4e31b77ac43aec1523e8",
            "6ae083d02a8d424cbb7f4629da0eb64b",
            "cd55166f4d964e8bb275422934dbceb8",
            "dbb9f581e7d04f69a596de36155f0319",
            "d54ba0ce323a4d2486afb23da165413b",
            "5bfc41260bb341ed95b8fe04dccfe0e4",
            "4b9abf7dbdb545678004b2e6d27a21a8",
            "f2d8a1eb0c0848c0b005b6ad87fb9c84",
            "1da53eeebf804b37b00044cc7ceac190",
            "6ccc6cba3c4541faae8de477d1178892",
            "a39ec59816924b689c4abcb599a16a88"
          ]
        },
        "id": "EjsC0lRfnWbR",
        "outputId": "d50c221c-a108-4bdf-a5e3-fa1bbf4ac90b"
      },
      "execution_count": 29,
      "outputs": [
        {
          "output_type": "stream",
          "name": "stderr",
          "text": [
            "\u001b[34m\u001b[1mwandb\u001b[0m: Agent Starting Run: b6lq04lg with config:\n",
            "\u001b[34m\u001b[1mwandb\u001b[0m: \tactivation: relu\n",
            "\u001b[34m\u001b[1mwandb\u001b[0m: \tbatch_size: 32\n",
            "\u001b[34m\u001b[1mwandb\u001b[0m: \tepochs: 5\n",
            "\u001b[34m\u001b[1mwandb\u001b[0m: \tinit_method: xavier\n",
            "\u001b[34m\u001b[1mwandb\u001b[0m: \tlearning_rate: 0.001\n",
            "\u001b[34m\u001b[1mwandb\u001b[0m: \tloss: cross_entropy\n",
            "\u001b[34m\u001b[1mwandb\u001b[0m: \tnum_layers: 4\n",
            "\u001b[34m\u001b[1mwandb\u001b[0m: \toptimizer: momentum\n",
            "\u001b[34m\u001b[1mwandb\u001b[0m: \tsize_layer: 32\n",
            "\u001b[34m\u001b[1mwandb\u001b[0m: \tweight_decay: 0.1\n",
            "\u001b[34m\u001b[1mwandb\u001b[0m: Currently logged in as: \u001b[33msidbetala\u001b[0m. Use \u001b[1m`wandb login --relogin`\u001b[0m to force relogin\n"
          ]
        },
        {
          "output_type": "display_data",
          "data": {
            "text/plain": [
              "<IPython.core.display.HTML object>"
            ],
            "text/html": [
              "Tracking run with wandb version 0.14.0"
            ]
          },
          "metadata": {}
        },
        {
          "output_type": "display_data",
          "data": {
            "text/plain": [
              "<IPython.core.display.HTML object>"
            ],
            "text/html": [
              "Run data is saved locally in <code>/content/wandb/run-20230319_140714-b6lq04lg</code>"
            ]
          },
          "metadata": {}
        },
        {
          "output_type": "display_data",
          "data": {
            "text/plain": [
              "<IPython.core.display.HTML object>"
            ],
            "text/html": [
              "Syncing run <strong><a href='https://wandb.ai/sidbetala/cs6910-assignment1/runs/b6lq04lg' target=\"_blank\">kind-sweep-1</a></strong> to <a href='https://wandb.ai/sidbetala/cs6910-assignment1' target=\"_blank\">Weights & Biases</a> (<a href='https://wandb.me/run' target=\"_blank\">docs</a>)<br/>Sweep page: <a href='https://wandb.ai/sidbetala/cs6910-assignment1/sweeps/3odgr0d7' target=\"_blank\">https://wandb.ai/sidbetala/cs6910-assignment1/sweeps/3odgr0d7</a>"
            ]
          },
          "metadata": {}
        },
        {
          "output_type": "display_data",
          "data": {
            "text/plain": [
              "<IPython.core.display.HTML object>"
            ],
            "text/html": [
              " View project at <a href='https://wandb.ai/sidbetala/cs6910-assignment1' target=\"_blank\">https://wandb.ai/sidbetala/cs6910-assignment1</a>"
            ]
          },
          "metadata": {}
        },
        {
          "output_type": "display_data",
          "data": {
            "text/plain": [
              "<IPython.core.display.HTML object>"
            ],
            "text/html": [
              " View sweep at <a href='https://wandb.ai/sidbetala/cs6910-assignment1/sweeps/3odgr0d7' target=\"_blank\">https://wandb.ai/sidbetala/cs6910-assignment1/sweeps/3odgr0d7</a>"
            ]
          },
          "metadata": {}
        },
        {
          "output_type": "display_data",
          "data": {
            "text/plain": [
              "<IPython.core.display.HTML object>"
            ],
            "text/html": [
              " View run at <a href='https://wandb.ai/sidbetala/cs6910-assignment1/runs/b6lq04lg' target=\"_blank\">https://wandb.ai/sidbetala/cs6910-assignment1/runs/b6lq04lg</a>"
            ]
          },
          "metadata": {}
        },
        {
          "output_type": "display_data",
          "data": {
            "text/plain": [
              "<IPython.core.display.HTML object>"
            ],
            "text/html": [
              "Finishing last run (ID:b6lq04lg) before initializing another..."
            ]
          },
          "metadata": {}
        },
        {
          "output_type": "display_data",
          "data": {
            "text/plain": [
              "<IPython.core.display.HTML object>"
            ],
            "text/html": [
              "Waiting for W&B process to finish... <strong style=\"color:green\">(success).</strong>"
            ]
          },
          "metadata": {}
        },
        {
          "output_type": "display_data",
          "data": {
            "text/plain": [
              "VBox(children=(Label(value='0.009 MB of 0.009 MB uploaded (0.000 MB deduped)\\r'), FloatProgress(value=1.0, max…"
            ],
            "application/vnd.jupyter.widget-view+json": {
              "version_major": 2,
              "version_minor": 0,
              "model_id": "81ee18448e8d4575b90f1c435851da76"
            }
          },
          "metadata": {}
        },
        {
          "output_type": "display_data",
          "data": {
            "text/plain": [
              "<IPython.core.display.HTML object>"
            ],
            "text/html": [
              " View run <strong style=\"color:#cdcd00\">kind-sweep-1</strong> at: <a href='https://wandb.ai/sidbetala/cs6910-assignment1/runs/b6lq04lg' target=\"_blank\">https://wandb.ai/sidbetala/cs6910-assignment1/runs/b6lq04lg</a><br/>Synced 4 W&B file(s), 0 media file(s), 0 artifact file(s) and 0 other file(s)"
            ]
          },
          "metadata": {}
        },
        {
          "output_type": "display_data",
          "data": {
            "text/plain": [
              "<IPython.core.display.HTML object>"
            ],
            "text/html": [
              "Find logs at: <code>./wandb/run-20230319_140714-b6lq04lg/logs</code>"
            ]
          },
          "metadata": {}
        },
        {
          "output_type": "display_data",
          "data": {
            "text/plain": [
              "<IPython.core.display.HTML object>"
            ],
            "text/html": [
              "Successfully finished last run (ID:b6lq04lg). Initializing new run:<br/>"
            ]
          },
          "metadata": {}
        },
        {
          "output_type": "display_data",
          "data": {
            "text/plain": [
              "<IPython.core.display.HTML object>"
            ],
            "text/html": [
              "Tracking run with wandb version 0.14.0"
            ]
          },
          "metadata": {}
        },
        {
          "output_type": "display_data",
          "data": {
            "text/plain": [
              "<IPython.core.display.HTML object>"
            ],
            "text/html": [
              "Run data is saved locally in <code>/content/wandb/run-20230319_140720-b6lq04lg</code>"
            ]
          },
          "metadata": {}
        },
        {
          "output_type": "display_data",
          "data": {
            "text/plain": [
              "<IPython.core.display.HTML object>"
            ],
            "text/html": [
              "Syncing run <strong><a href='https://wandb.ai/sidbetala/cs6910-assignment1/runs/b6lq04lg' target=\"_blank\">kind-sweep-1</a></strong> to <a href='https://wandb.ai/sidbetala/cs6910-assignment1' target=\"_blank\">Weights & Biases</a> (<a href='https://wandb.me/run' target=\"_blank\">docs</a>)<br/>Sweep page: <a href='https://wandb.ai/sidbetala/cs6910-assignment1/sweeps/3odgr0d7' target=\"_blank\">https://wandb.ai/sidbetala/cs6910-assignment1/sweeps/3odgr0d7</a>"
            ]
          },
          "metadata": {}
        },
        {
          "output_type": "display_data",
          "data": {
            "text/plain": [
              "<IPython.core.display.HTML object>"
            ],
            "text/html": [
              " View project at <a href='https://wandb.ai/sidbetala/cs6910-assignment1' target=\"_blank\">https://wandb.ai/sidbetala/cs6910-assignment1</a>"
            ]
          },
          "metadata": {}
        },
        {
          "output_type": "display_data",
          "data": {
            "text/plain": [
              "<IPython.core.display.HTML object>"
            ],
            "text/html": [
              " View sweep at <a href='https://wandb.ai/sidbetala/cs6910-assignment1/sweeps/3odgr0d7' target=\"_blank\">https://wandb.ai/sidbetala/cs6910-assignment1/sweeps/3odgr0d7</a>"
            ]
          },
          "metadata": {}
        },
        {
          "output_type": "display_data",
          "data": {
            "text/plain": [
              "<IPython.core.display.HTML object>"
            ],
            "text/html": [
              " View run at <a href='https://wandb.ai/sidbetala/cs6910-assignment1/runs/b6lq04lg' target=\"_blank\">https://wandb.ai/sidbetala/cs6910-assignment1/runs/b6lq04lg</a>"
            ]
          },
          "metadata": {}
        },
        {
          "output_type": "stream",
          "name": "stderr",
          "text": [
            "\u001b[34m\u001b[1mwandb\u001b[0m: \u001b[33mWARNING\u001b[0m Calling wandb.run.save without any arguments is deprecated.Changes to attributes are automatically persisted.\n"
          ]
        },
        {
          "output_type": "stream",
          "name": "stdout",
          "text": [
            "Model trained!\n"
          ]
        },
        {
          "output_type": "display_data",
          "data": {
            "text/plain": [
              "<IPython.core.display.HTML object>"
            ],
            "text/html": [
              "Waiting for W&B process to finish... <strong style=\"color:green\">(success).</strong>"
            ]
          },
          "metadata": {}
        },
        {
          "output_type": "display_data",
          "data": {
            "text/plain": [
              "<IPython.core.display.HTML object>"
            ],
            "text/html": [
              "<style>\n",
              "    table.wandb td:nth-child(1) { padding: 0 10px; text-align: left ; width: auto;} td:nth-child(2) {text-align: left ; width: 100%}\n",
              "    .wandb-row { display: flex; flex-direction: row; flex-wrap: wrap; justify-content: flex-start; width: 100% }\n",
              "    .wandb-col { display: flex; flex-direction: column; flex-basis: 100%; flex: 1; padding: 10px; }\n",
              "    </style>\n",
              "<div class=\"wandb-row\"><div class=\"wandb-col\"><h3>Run history:</h3><br/><table class=\"wandb\"><tr><td>Epoch</td><td>▁▃▅▆█</td></tr><tr><td>Train Accuracy</td><td>█▁▁▁▁</td></tr><tr><td>Train Loss</td><td>▁████</td></tr><tr><td>Val Accuracy</td><td>▁▁▁▁▁</td></tr><tr><td>Val Loss</td><td>▁████</td></tr></table><br/></div><div class=\"wandb-col\"><h3>Run summary:</h3><br/><table class=\"wandb\"><tr><td>Epoch</td><td>5</td></tr><tr><td>Train Accuracy</td><td>0.09914</td></tr><tr><td>Train Loss</td><td>2.30264</td></tr><tr><td>Val Accuracy</td><td>0.09574</td></tr><tr><td>Val Loss</td><td>2.30266</td></tr></table><br/></div></div>"
            ]
          },
          "metadata": {}
        },
        {
          "output_type": "display_data",
          "data": {
            "text/plain": [
              "<IPython.core.display.HTML object>"
            ],
            "text/html": [
              " View run <strong style=\"color:#cdcd00\">kind-sweep-1</strong> at: <a href='https://wandb.ai/sidbetala/cs6910-assignment1/runs/b6lq04lg' target=\"_blank\">https://wandb.ai/sidbetala/cs6910-assignment1/runs/b6lq04lg</a><br/>Synced 5 W&B file(s), 0 media file(s), 0 artifact file(s) and 0 other file(s)"
            ]
          },
          "metadata": {}
        },
        {
          "output_type": "display_data",
          "data": {
            "text/plain": [
              "<IPython.core.display.HTML object>"
            ],
            "text/html": [
              "Find logs at: <code>./wandb/run-20230319_140720-b6lq04lg/logs</code>"
            ]
          },
          "metadata": {}
        },
        {
          "output_type": "stream",
          "name": "stderr",
          "text": [
            "\u001b[34m\u001b[1mwandb\u001b[0m: Agent Starting Run: xoabl6da with config:\n",
            "\u001b[34m\u001b[1mwandb\u001b[0m: \tactivation: tanh\n",
            "\u001b[34m\u001b[1mwandb\u001b[0m: \tbatch_size: 128\n",
            "\u001b[34m\u001b[1mwandb\u001b[0m: \tepochs: 5\n",
            "\u001b[34m\u001b[1mwandb\u001b[0m: \tinit_method: random\n",
            "\u001b[34m\u001b[1mwandb\u001b[0m: \tlearning_rate: 0.0001\n",
            "\u001b[34m\u001b[1mwandb\u001b[0m: \tloss: cross_entropy\n",
            "\u001b[34m\u001b[1mwandb\u001b[0m: \tnum_layers: 3\n",
            "\u001b[34m\u001b[1mwandb\u001b[0m: \toptimizer: momentum\n",
            "\u001b[34m\u001b[1mwandb\u001b[0m: \tsize_layer: 32\n",
            "\u001b[34m\u001b[1mwandb\u001b[0m: \tweight_decay: 0.01\n"
          ]
        },
        {
          "output_type": "display_data",
          "data": {
            "text/plain": [
              "<IPython.core.display.HTML object>"
            ],
            "text/html": [
              "Tracking run with wandb version 0.14.0"
            ]
          },
          "metadata": {}
        },
        {
          "output_type": "display_data",
          "data": {
            "text/plain": [
              "<IPython.core.display.HTML object>"
            ],
            "text/html": [
              "Run data is saved locally in <code>/content/wandb/run-20230319_140818-xoabl6da</code>"
            ]
          },
          "metadata": {}
        },
        {
          "output_type": "display_data",
          "data": {
            "text/plain": [
              "<IPython.core.display.HTML object>"
            ],
            "text/html": [
              "Syncing run <strong><a href='https://wandb.ai/sidbetala/cs6910-assignment1/runs/xoabl6da' target=\"_blank\">cool-sweep-2</a></strong> to <a href='https://wandb.ai/sidbetala/cs6910-assignment1' target=\"_blank\">Weights & Biases</a> (<a href='https://wandb.me/run' target=\"_blank\">docs</a>)<br/>Sweep page: <a href='https://wandb.ai/sidbetala/cs6910-assignment1/sweeps/3odgr0d7' target=\"_blank\">https://wandb.ai/sidbetala/cs6910-assignment1/sweeps/3odgr0d7</a>"
            ]
          },
          "metadata": {}
        },
        {
          "output_type": "display_data",
          "data": {
            "text/plain": [
              "<IPython.core.display.HTML object>"
            ],
            "text/html": [
              " View project at <a href='https://wandb.ai/sidbetala/cs6910-assignment1' target=\"_blank\">https://wandb.ai/sidbetala/cs6910-assignment1</a>"
            ]
          },
          "metadata": {}
        },
        {
          "output_type": "display_data",
          "data": {
            "text/plain": [
              "<IPython.core.display.HTML object>"
            ],
            "text/html": [
              " View sweep at <a href='https://wandb.ai/sidbetala/cs6910-assignment1/sweeps/3odgr0d7' target=\"_blank\">https://wandb.ai/sidbetala/cs6910-assignment1/sweeps/3odgr0d7</a>"
            ]
          },
          "metadata": {}
        },
        {
          "output_type": "display_data",
          "data": {
            "text/plain": [
              "<IPython.core.display.HTML object>"
            ],
            "text/html": [
              " View run at <a href='https://wandb.ai/sidbetala/cs6910-assignment1/runs/xoabl6da' target=\"_blank\">https://wandb.ai/sidbetala/cs6910-assignment1/runs/xoabl6da</a>"
            ]
          },
          "metadata": {}
        },
        {
          "output_type": "stream",
          "name": "stdout",
          "text": [
            "Model trained!\n"
          ]
        },
        {
          "output_type": "display_data",
          "data": {
            "text/plain": [
              "<IPython.core.display.HTML object>"
            ],
            "text/html": [
              "Waiting for W&B process to finish... <strong style=\"color:green\">(success).</strong>"
            ]
          },
          "metadata": {}
        },
        {
          "output_type": "display_data",
          "data": {
            "text/plain": [
              "<IPython.core.display.HTML object>"
            ],
            "text/html": [
              "<style>\n",
              "    table.wandb td:nth-child(1) { padding: 0 10px; text-align: left ; width: auto;} td:nth-child(2) {text-align: left ; width: 100%}\n",
              "    .wandb-row { display: flex; flex-direction: row; flex-wrap: wrap; justify-content: flex-start; width: 100% }\n",
              "    .wandb-col { display: flex; flex-direction: column; flex-basis: 100%; flex: 1; padding: 10px; }\n",
              "    </style>\n",
              "<div class=\"wandb-row\"><div class=\"wandb-col\"><h3>Run history:</h3><br/><table class=\"wandb\"><tr><td>Epoch</td><td>▁▃▅▆█</td></tr><tr><td>Train Accuracy</td><td>▁▅▇██</td></tr><tr><td>Train Loss</td><td>█▅▃▂▁</td></tr><tr><td>Val Accuracy</td><td>▁▅▇▇█</td></tr><tr><td>Val Loss</td><td>█▅▄▂▁</td></tr></table><br/></div><div class=\"wandb-col\"><h3>Run summary:</h3><br/><table class=\"wandb\"><tr><td>Epoch</td><td>5</td></tr><tr><td>Train Accuracy</td><td>0.6347</td></tr><tr><td>Train Loss</td><td>1.40494</td></tr><tr><td>Val Accuracy</td><td>0.63735</td></tr><tr><td>Val Loss</td><td>1.3608</td></tr></table><br/></div></div>"
            ]
          },
          "metadata": {}
        },
        {
          "output_type": "display_data",
          "data": {
            "text/plain": [
              "<IPython.core.display.HTML object>"
            ],
            "text/html": [
              " View run <strong style=\"color:#cdcd00\">cool-sweep-2</strong> at: <a href='https://wandb.ai/sidbetala/cs6910-assignment1/runs/xoabl6da' target=\"_blank\">https://wandb.ai/sidbetala/cs6910-assignment1/runs/xoabl6da</a><br/>Synced 5 W&B file(s), 0 media file(s), 0 artifact file(s) and 0 other file(s)"
            ]
          },
          "metadata": {}
        },
        {
          "output_type": "display_data",
          "data": {
            "text/plain": [
              "<IPython.core.display.HTML object>"
            ],
            "text/html": [
              "Find logs at: <code>./wandb/run-20230319_140818-xoabl6da/logs</code>"
            ]
          },
          "metadata": {}
        },
        {
          "output_type": "stream",
          "name": "stderr",
          "text": [
            "\u001b[34m\u001b[1mwandb\u001b[0m: Agent Starting Run: a53p85cj with config:\n",
            "\u001b[34m\u001b[1mwandb\u001b[0m: \tactivation: sigmoid\n",
            "\u001b[34m\u001b[1mwandb\u001b[0m: \tbatch_size: 256\n",
            "\u001b[34m\u001b[1mwandb\u001b[0m: \tepochs: 10\n",
            "\u001b[34m\u001b[1mwandb\u001b[0m: \tinit_method: kaiming\n",
            "\u001b[34m\u001b[1mwandb\u001b[0m: \tlearning_rate: 0.0001\n",
            "\u001b[34m\u001b[1mwandb\u001b[0m: \tloss: cross_entropy\n",
            "\u001b[34m\u001b[1mwandb\u001b[0m: \tnum_layers: 5\n",
            "\u001b[34m\u001b[1mwandb\u001b[0m: \toptimizer: adam\n",
            "\u001b[34m\u001b[1mwandb\u001b[0m: \tsize_layer: 64\n",
            "\u001b[34m\u001b[1mwandb\u001b[0m: \tweight_decay: 0\n"
          ]
        },
        {
          "output_type": "display_data",
          "data": {
            "text/plain": [
              "<IPython.core.display.HTML object>"
            ],
            "text/html": [
              "Tracking run with wandb version 0.14.0"
            ]
          },
          "metadata": {}
        },
        {
          "output_type": "display_data",
          "data": {
            "text/plain": [
              "<IPython.core.display.HTML object>"
            ],
            "text/html": [
              "Run data is saved locally in <code>/content/wandb/run-20230319_140905-a53p85cj</code>"
            ]
          },
          "metadata": {}
        },
        {
          "output_type": "display_data",
          "data": {
            "text/plain": [
              "<IPython.core.display.HTML object>"
            ],
            "text/html": [
              "Syncing run <strong><a href='https://wandb.ai/sidbetala/cs6910-assignment1/runs/a53p85cj' target=\"_blank\">flowing-sweep-3</a></strong> to <a href='https://wandb.ai/sidbetala/cs6910-assignment1' target=\"_blank\">Weights & Biases</a> (<a href='https://wandb.me/run' target=\"_blank\">docs</a>)<br/>Sweep page: <a href='https://wandb.ai/sidbetala/cs6910-assignment1/sweeps/3odgr0d7' target=\"_blank\">https://wandb.ai/sidbetala/cs6910-assignment1/sweeps/3odgr0d7</a>"
            ]
          },
          "metadata": {}
        },
        {
          "output_type": "display_data",
          "data": {
            "text/plain": [
              "<IPython.core.display.HTML object>"
            ],
            "text/html": [
              " View project at <a href='https://wandb.ai/sidbetala/cs6910-assignment1' target=\"_blank\">https://wandb.ai/sidbetala/cs6910-assignment1</a>"
            ]
          },
          "metadata": {}
        },
        {
          "output_type": "display_data",
          "data": {
            "text/plain": [
              "<IPython.core.display.HTML object>"
            ],
            "text/html": [
              " View sweep at <a href='https://wandb.ai/sidbetala/cs6910-assignment1/sweeps/3odgr0d7' target=\"_blank\">https://wandb.ai/sidbetala/cs6910-assignment1/sweeps/3odgr0d7</a>"
            ]
          },
          "metadata": {}
        },
        {
          "output_type": "display_data",
          "data": {
            "text/plain": [
              "<IPython.core.display.HTML object>"
            ],
            "text/html": [
              " View run at <a href='https://wandb.ai/sidbetala/cs6910-assignment1/runs/a53p85cj' target=\"_blank\">https://wandb.ai/sidbetala/cs6910-assignment1/runs/a53p85cj</a>"
            ]
          },
          "metadata": {}
        },
        {
          "output_type": "stream",
          "name": "stdout",
          "text": [
            "Model trained!\n"
          ]
        },
        {
          "output_type": "display_data",
          "data": {
            "text/plain": [
              "<IPython.core.display.HTML object>"
            ],
            "text/html": [
              "Waiting for W&B process to finish... <strong style=\"color:green\">(success).</strong>"
            ]
          },
          "metadata": {}
        },
        {
          "output_type": "display_data",
          "data": {
            "text/plain": [
              "VBox(children=(Label(value='0.001 MB of 0.001 MB uploaded (0.000 MB deduped)\\r'), FloatProgress(value=1.0, max…"
            ],
            "application/vnd.jupyter.widget-view+json": {
              "version_major": 2,
              "version_minor": 0,
              "model_id": "9114e825054844898b7ea1ee582d7980"
            }
          },
          "metadata": {}
        },
        {
          "output_type": "display_data",
          "data": {
            "text/plain": [
              "<IPython.core.display.HTML object>"
            ],
            "text/html": [
              "<style>\n",
              "    table.wandb td:nth-child(1) { padding: 0 10px; text-align: left ; width: auto;} td:nth-child(2) {text-align: left ; width: 100%}\n",
              "    .wandb-row { display: flex; flex-direction: row; flex-wrap: wrap; justify-content: flex-start; width: 100% }\n",
              "    .wandb-col { display: flex; flex-direction: column; flex-basis: 100%; flex: 1; padding: 10px; }\n",
              "    </style>\n",
              "<div class=\"wandb-row\"><div class=\"wandb-col\"><h3>Run history:</h3><br/><table class=\"wandb\"><tr><td>Epoch</td><td>▁▂▃▃▄▅▆▆▇█</td></tr><tr><td>Train Accuracy</td><td>▁▃▄▅▆▇████</td></tr><tr><td>Train Loss</td><td>█▇▆▄▃▂▂▁▁▁</td></tr><tr><td>Val Accuracy</td><td>▁▃▅▆▇▇████</td></tr><tr><td>Val Loss</td><td>█▇▅▄▃▂▂▁▁▁</td></tr></table><br/></div><div class=\"wandb-col\"><h3>Run summary:</h3><br/><table class=\"wandb\"><tr><td>Epoch</td><td>10</td></tr><tr><td>Train Accuracy</td><td>0.68141</td></tr><tr><td>Train Loss</td><td>0.93583</td></tr><tr><td>Val Accuracy</td><td>0.68231</td></tr><tr><td>Val Loss</td><td>0.91508</td></tr></table><br/></div></div>"
            ]
          },
          "metadata": {}
        },
        {
          "output_type": "display_data",
          "data": {
            "text/plain": [
              "<IPython.core.display.HTML object>"
            ],
            "text/html": [
              " View run <strong style=\"color:#cdcd00\">flowing-sweep-3</strong> at: <a href='https://wandb.ai/sidbetala/cs6910-assignment1/runs/a53p85cj' target=\"_blank\">https://wandb.ai/sidbetala/cs6910-assignment1/runs/a53p85cj</a><br/>Synced 5 W&B file(s), 0 media file(s), 0 artifact file(s) and 0 other file(s)"
            ]
          },
          "metadata": {}
        },
        {
          "output_type": "display_data",
          "data": {
            "text/plain": [
              "<IPython.core.display.HTML object>"
            ],
            "text/html": [
              "Find logs at: <code>./wandb/run-20230319_140905-a53p85cj/logs</code>"
            ]
          },
          "metadata": {}
        },
        {
          "output_type": "stream",
          "name": "stderr",
          "text": [
            "\u001b[34m\u001b[1mwandb\u001b[0m: Agent Starting Run: dpr5v0us with config:\n",
            "\u001b[34m\u001b[1mwandb\u001b[0m: \tactivation: relu\n",
            "\u001b[34m\u001b[1mwandb\u001b[0m: \tbatch_size: 32\n",
            "\u001b[34m\u001b[1mwandb\u001b[0m: \tepochs: 10\n",
            "\u001b[34m\u001b[1mwandb\u001b[0m: \tinit_method: xavier\n",
            "\u001b[34m\u001b[1mwandb\u001b[0m: \tlearning_rate: 0.0001\n",
            "\u001b[34m\u001b[1mwandb\u001b[0m: \tloss: cross_entropy\n",
            "\u001b[34m\u001b[1mwandb\u001b[0m: \tnum_layers: 5\n",
            "\u001b[34m\u001b[1mwandb\u001b[0m: \toptimizer: nag\n",
            "\u001b[34m\u001b[1mwandb\u001b[0m: \tsize_layer: 128\n",
            "\u001b[34m\u001b[1mwandb\u001b[0m: \tweight_decay: 0.0005\n"
          ]
        },
        {
          "output_type": "display_data",
          "data": {
            "text/plain": [
              "<IPython.core.display.HTML object>"
            ],
            "text/html": [
              "Tracking run with wandb version 0.14.0"
            ]
          },
          "metadata": {}
        },
        {
          "output_type": "display_data",
          "data": {
            "text/plain": [
              "<IPython.core.display.HTML object>"
            ],
            "text/html": [
              "Run data is saved locally in <code>/content/wandb/run-20230319_141050-dpr5v0us</code>"
            ]
          },
          "metadata": {}
        },
        {
          "output_type": "display_data",
          "data": {
            "text/plain": [
              "<IPython.core.display.HTML object>"
            ],
            "text/html": [
              "Syncing run <strong><a href='https://wandb.ai/sidbetala/cs6910-assignment1/runs/dpr5v0us' target=\"_blank\">misunderstood-sweep-4</a></strong> to <a href='https://wandb.ai/sidbetala/cs6910-assignment1' target=\"_blank\">Weights & Biases</a> (<a href='https://wandb.me/run' target=\"_blank\">docs</a>)<br/>Sweep page: <a href='https://wandb.ai/sidbetala/cs6910-assignment1/sweeps/3odgr0d7' target=\"_blank\">https://wandb.ai/sidbetala/cs6910-assignment1/sweeps/3odgr0d7</a>"
            ]
          },
          "metadata": {}
        },
        {
          "output_type": "display_data",
          "data": {
            "text/plain": [
              "<IPython.core.display.HTML object>"
            ],
            "text/html": [
              " View project at <a href='https://wandb.ai/sidbetala/cs6910-assignment1' target=\"_blank\">https://wandb.ai/sidbetala/cs6910-assignment1</a>"
            ]
          },
          "metadata": {}
        },
        {
          "output_type": "display_data",
          "data": {
            "text/plain": [
              "<IPython.core.display.HTML object>"
            ],
            "text/html": [
              " View sweep at <a href='https://wandb.ai/sidbetala/cs6910-assignment1/sweeps/3odgr0d7' target=\"_blank\">https://wandb.ai/sidbetala/cs6910-assignment1/sweeps/3odgr0d7</a>"
            ]
          },
          "metadata": {}
        },
        {
          "output_type": "display_data",
          "data": {
            "text/plain": [
              "<IPython.core.display.HTML object>"
            ],
            "text/html": [
              " View run at <a href='https://wandb.ai/sidbetala/cs6910-assignment1/runs/dpr5v0us' target=\"_blank\">https://wandb.ai/sidbetala/cs6910-assignment1/runs/dpr5v0us</a>"
            ]
          },
          "metadata": {}
        },
        {
          "output_type": "stream",
          "name": "stdout",
          "text": [
            "Model trained!\n"
          ]
        },
        {
          "output_type": "display_data",
          "data": {
            "text/plain": [
              "<IPython.core.display.HTML object>"
            ],
            "text/html": [
              "Waiting for W&B process to finish... <strong style=\"color:green\">(success).</strong>"
            ]
          },
          "metadata": {}
        },
        {
          "output_type": "display_data",
          "data": {
            "text/plain": [
              "VBox(children=(Label(value='0.001 MB of 0.001 MB uploaded (0.000 MB deduped)\\r'), FloatProgress(value=1.0, max…"
            ],
            "application/vnd.jupyter.widget-view+json": {
              "version_major": 2,
              "version_minor": 0,
              "model_id": "dbb9f581e7d04f69a596de36155f0319"
            }
          },
          "metadata": {}
        },
        {
          "output_type": "display_data",
          "data": {
            "text/plain": [
              "<IPython.core.display.HTML object>"
            ],
            "text/html": [
              "<style>\n",
              "    table.wandb td:nth-child(1) { padding: 0 10px; text-align: left ; width: auto;} td:nth-child(2) {text-align: left ; width: 100%}\n",
              "    .wandb-row { display: flex; flex-direction: row; flex-wrap: wrap; justify-content: flex-start; width: 100% }\n",
              "    .wandb-col { display: flex; flex-direction: column; flex-basis: 100%; flex: 1; padding: 10px; }\n",
              "    </style>\n",
              "<div class=\"wandb-row\"><div class=\"wandb-col\"><h3>Run history:</h3><br/><table class=\"wandb\"><tr><td>Epoch</td><td>▁▂▃▃▄▅▆▆▇█</td></tr><tr><td>Train Accuracy</td><td>▁▅▇▇▇█████</td></tr><tr><td>Train Loss</td><td>█▄▂▂▂▁▁▁▁▁</td></tr><tr><td>Val Accuracy</td><td>▁▅▆▇▇█████</td></tr><tr><td>Val Loss</td><td>█▃▂▂▂▁▁▁▁▁</td></tr></table><br/></div><div class=\"wandb-col\"><h3>Run summary:</h3><br/><table class=\"wandb\"><tr><td>Epoch</td><td>10</td></tr><tr><td>Train Accuracy</td><td>0.82329</td></tr><tr><td>Train Loss</td><td>0.49535</td></tr><tr><td>Val Accuracy</td><td>0.82613</td></tr><tr><td>Val Loss</td><td>0.48214</td></tr></table><br/></div></div>"
            ]
          },
          "metadata": {}
        },
        {
          "output_type": "display_data",
          "data": {
            "text/plain": [
              "<IPython.core.display.HTML object>"
            ],
            "text/html": [
              " View run <strong style=\"color:#cdcd00\">misunderstood-sweep-4</strong> at: <a href='https://wandb.ai/sidbetala/cs6910-assignment1/runs/dpr5v0us' target=\"_blank\">https://wandb.ai/sidbetala/cs6910-assignment1/runs/dpr5v0us</a><br/>Synced 5 W&B file(s), 0 media file(s), 0 artifact file(s) and 0 other file(s)"
            ]
          },
          "metadata": {}
        },
        {
          "output_type": "display_data",
          "data": {
            "text/plain": [
              "<IPython.core.display.HTML object>"
            ],
            "text/html": [
              "Find logs at: <code>./wandb/run-20230319_141050-dpr5v0us/logs</code>"
            ]
          },
          "metadata": {}
        },
        {
          "output_type": "stream",
          "name": "stderr",
          "text": [
            "\u001b[34m\u001b[1mwandb\u001b[0m: Agent Starting Run: 33q2ijb2 with config:\n",
            "\u001b[34m\u001b[1mwandb\u001b[0m: \tactivation: relu\n",
            "\u001b[34m\u001b[1mwandb\u001b[0m: \tbatch_size: 256\n",
            "\u001b[34m\u001b[1mwandb\u001b[0m: \tepochs: 10\n",
            "\u001b[34m\u001b[1mwandb\u001b[0m: \tinit_method: xavier\n",
            "\u001b[34m\u001b[1mwandb\u001b[0m: \tlearning_rate: 0.0001\n",
            "\u001b[34m\u001b[1mwandb\u001b[0m: \tloss: cross_entropy\n",
            "\u001b[34m\u001b[1mwandb\u001b[0m: \tnum_layers: 4\n",
            "\u001b[34m\u001b[1mwandb\u001b[0m: \toptimizer: momentum\n",
            "\u001b[34m\u001b[1mwandb\u001b[0m: \tsize_layer: 64\n",
            "\u001b[34m\u001b[1mwandb\u001b[0m: \tweight_decay: 0.01\n"
          ]
        },
        {
          "output_type": "display_data",
          "data": {
            "text/plain": [
              "<IPython.core.display.HTML object>"
            ],
            "text/html": [
              "Tracking run with wandb version 0.14.0"
            ]
          },
          "metadata": {}
        },
        {
          "output_type": "display_data",
          "data": {
            "text/plain": [
              "<IPython.core.display.HTML object>"
            ],
            "text/html": [
              "Run data is saved locally in <code>/content/wandb/run-20230319_141527-33q2ijb2</code>"
            ]
          },
          "metadata": {}
        },
        {
          "output_type": "display_data",
          "data": {
            "text/plain": [
              "<IPython.core.display.HTML object>"
            ],
            "text/html": [
              "Syncing run <strong><a href='https://wandb.ai/sidbetala/cs6910-assignment1/runs/33q2ijb2' target=\"_blank\">magic-sweep-5</a></strong> to <a href='https://wandb.ai/sidbetala/cs6910-assignment1' target=\"_blank\">Weights & Biases</a> (<a href='https://wandb.me/run' target=\"_blank\">docs</a>)<br/>Sweep page: <a href='https://wandb.ai/sidbetala/cs6910-assignment1/sweeps/3odgr0d7' target=\"_blank\">https://wandb.ai/sidbetala/cs6910-assignment1/sweeps/3odgr0d7</a>"
            ]
          },
          "metadata": {}
        },
        {
          "output_type": "display_data",
          "data": {
            "text/plain": [
              "<IPython.core.display.HTML object>"
            ],
            "text/html": [
              " View project at <a href='https://wandb.ai/sidbetala/cs6910-assignment1' target=\"_blank\">https://wandb.ai/sidbetala/cs6910-assignment1</a>"
            ]
          },
          "metadata": {}
        },
        {
          "output_type": "display_data",
          "data": {
            "text/plain": [
              "<IPython.core.display.HTML object>"
            ],
            "text/html": [
              " View sweep at <a href='https://wandb.ai/sidbetala/cs6910-assignment1/sweeps/3odgr0d7' target=\"_blank\">https://wandb.ai/sidbetala/cs6910-assignment1/sweeps/3odgr0d7</a>"
            ]
          },
          "metadata": {}
        },
        {
          "output_type": "display_data",
          "data": {
            "text/plain": [
              "<IPython.core.display.HTML object>"
            ],
            "text/html": [
              " View run at <a href='https://wandb.ai/sidbetala/cs6910-assignment1/runs/33q2ijb2' target=\"_blank\">https://wandb.ai/sidbetala/cs6910-assignment1/runs/33q2ijb2</a>"
            ]
          },
          "metadata": {}
        },
        {
          "output_type": "stream",
          "name": "stdout",
          "text": [
            "Model trained!\n"
          ]
        },
        {
          "output_type": "display_data",
          "data": {
            "text/plain": [
              "<IPython.core.display.HTML object>"
            ],
            "text/html": [
              "Waiting for W&B process to finish... <strong style=\"color:green\">(success).</strong>"
            ]
          },
          "metadata": {}
        },
        {
          "output_type": "display_data",
          "data": {
            "text/plain": [
              "<IPython.core.display.HTML object>"
            ],
            "text/html": [
              "<style>\n",
              "    table.wandb td:nth-child(1) { padding: 0 10px; text-align: left ; width: auto;} td:nth-child(2) {text-align: left ; width: 100%}\n",
              "    .wandb-row { display: flex; flex-direction: row; flex-wrap: wrap; justify-content: flex-start; width: 100% }\n",
              "    .wandb-col { display: flex; flex-direction: column; flex-basis: 100%; flex: 1; padding: 10px; }\n",
              "    </style>\n",
              "<div class=\"wandb-row\"><div class=\"wandb-col\"><h3>Run history:</h3><br/><table class=\"wandb\"><tr><td>Epoch</td><td>▁▂▃▃▄▅▆▆▇█</td></tr><tr><td>Train Accuracy</td><td>▁▁▁▁▃▄▅▅▆█</td></tr><tr><td>Train Loss</td><td>█▇▇▆▆▅▄▃▂▁</td></tr><tr><td>Val Accuracy</td><td>▁▁▁▂▃▄▅▅▇█</td></tr><tr><td>Val Loss</td><td>█▇▇▆▆▅▄▄▂▁</td></tr></table><br/></div><div class=\"wandb-col\"><h3>Run summary:</h3><br/><table class=\"wandb\"><tr><td>Epoch</td><td>10</td></tr><tr><td>Train Accuracy</td><td>0.41482</td></tr><tr><td>Train Loss</td><td>1.98621</td></tr><tr><td>Val Accuracy</td><td>0.45219</td></tr><tr><td>Val Loss</td><td>1.94711</td></tr></table><br/></div></div>"
            ]
          },
          "metadata": {}
        },
        {
          "output_type": "display_data",
          "data": {
            "text/plain": [
              "<IPython.core.display.HTML object>"
            ],
            "text/html": [
              " View run <strong style=\"color:#cdcd00\">magic-sweep-5</strong> at: <a href='https://wandb.ai/sidbetala/cs6910-assignment1/runs/33q2ijb2' target=\"_blank\">https://wandb.ai/sidbetala/cs6910-assignment1/runs/33q2ijb2</a><br/>Synced 5 W&B file(s), 0 media file(s), 0 artifact file(s) and 0 other file(s)"
            ]
          },
          "metadata": {}
        },
        {
          "output_type": "display_data",
          "data": {
            "text/plain": [
              "<IPython.core.display.HTML object>"
            ],
            "text/html": [
              "Find logs at: <code>./wandb/run-20230319_141527-33q2ijb2/logs</code>"
            ]
          },
          "metadata": {}
        },
        {
          "output_type": "stream",
          "name": "stderr",
          "text": [
            "\u001b[34m\u001b[1mwandb\u001b[0m: Agent Starting Run: qwdpxygs with config:\n",
            "\u001b[34m\u001b[1mwandb\u001b[0m: \tactivation: tanh\n",
            "\u001b[34m\u001b[1mwandb\u001b[0m: \tbatch_size: 32\n",
            "\u001b[34m\u001b[1mwandb\u001b[0m: \tepochs: 5\n",
            "\u001b[34m\u001b[1mwandb\u001b[0m: \tinit_method: xavier\n",
            "\u001b[34m\u001b[1mwandb\u001b[0m: \tlearning_rate: 0.0001\n",
            "\u001b[34m\u001b[1mwandb\u001b[0m: \tloss: cross_entropy\n",
            "\u001b[34m\u001b[1mwandb\u001b[0m: \tnum_layers: 3\n",
            "\u001b[34m\u001b[1mwandb\u001b[0m: \toptimizer: momentum\n",
            "\u001b[34m\u001b[1mwandb\u001b[0m: \tsize_layer: 32\n",
            "\u001b[34m\u001b[1mwandb\u001b[0m: \tweight_decay: 0.001\n"
          ]
        },
        {
          "output_type": "display_data",
          "data": {
            "text/plain": [
              "<IPython.core.display.HTML object>"
            ],
            "text/html": [
              "Tracking run with wandb version 0.14.0"
            ]
          },
          "metadata": {}
        },
        {
          "output_type": "display_data",
          "data": {
            "text/plain": [
              "<IPython.core.display.HTML object>"
            ],
            "text/html": [
              "Run data is saved locally in <code>/content/wandb/run-20230319_141702-qwdpxygs</code>"
            ]
          },
          "metadata": {}
        },
        {
          "output_type": "display_data",
          "data": {
            "text/plain": [
              "<IPython.core.display.HTML object>"
            ],
            "text/html": [
              "Syncing run <strong><a href='https://wandb.ai/sidbetala/cs6910-assignment1/runs/qwdpxygs' target=\"_blank\">iconic-sweep-6</a></strong> to <a href='https://wandb.ai/sidbetala/cs6910-assignment1' target=\"_blank\">Weights & Biases</a> (<a href='https://wandb.me/run' target=\"_blank\">docs</a>)<br/>Sweep page: <a href='https://wandb.ai/sidbetala/cs6910-assignment1/sweeps/3odgr0d7' target=\"_blank\">https://wandb.ai/sidbetala/cs6910-assignment1/sweeps/3odgr0d7</a>"
            ]
          },
          "metadata": {}
        },
        {
          "output_type": "display_data",
          "data": {
            "text/plain": [
              "<IPython.core.display.HTML object>"
            ],
            "text/html": [
              " View project at <a href='https://wandb.ai/sidbetala/cs6910-assignment1' target=\"_blank\">https://wandb.ai/sidbetala/cs6910-assignment1</a>"
            ]
          },
          "metadata": {}
        },
        {
          "output_type": "display_data",
          "data": {
            "text/plain": [
              "<IPython.core.display.HTML object>"
            ],
            "text/html": [
              " View sweep at <a href='https://wandb.ai/sidbetala/cs6910-assignment1/sweeps/3odgr0d7' target=\"_blank\">https://wandb.ai/sidbetala/cs6910-assignment1/sweeps/3odgr0d7</a>"
            ]
          },
          "metadata": {}
        },
        {
          "output_type": "display_data",
          "data": {
            "text/plain": [
              "<IPython.core.display.HTML object>"
            ],
            "text/html": [
              " View run at <a href='https://wandb.ai/sidbetala/cs6910-assignment1/runs/qwdpxygs' target=\"_blank\">https://wandb.ai/sidbetala/cs6910-assignment1/runs/qwdpxygs</a>"
            ]
          },
          "metadata": {}
        },
        {
          "output_type": "stream",
          "name": "stdout",
          "text": [
            "Model trained!\n"
          ]
        },
        {
          "output_type": "display_data",
          "data": {
            "text/plain": [
              "<IPython.core.display.HTML object>"
            ],
            "text/html": [
              "Waiting for W&B process to finish... <strong style=\"color:green\">(success).</strong>"
            ]
          },
          "metadata": {}
        },
        {
          "output_type": "display_data",
          "data": {
            "text/plain": [
              "<IPython.core.display.HTML object>"
            ],
            "text/html": [
              "<style>\n",
              "    table.wandb td:nth-child(1) { padding: 0 10px; text-align: left ; width: auto;} td:nth-child(2) {text-align: left ; width: 100%}\n",
              "    .wandb-row { display: flex; flex-direction: row; flex-wrap: wrap; justify-content: flex-start; width: 100% }\n",
              "    .wandb-col { display: flex; flex-direction: column; flex-basis: 100%; flex: 1; padding: 10px; }\n",
              "    </style>\n",
              "<div class=\"wandb-row\"><div class=\"wandb-col\"><h3>Run history:</h3><br/><table class=\"wandb\"><tr><td>Epoch</td><td>▁▃▅▆█</td></tr><tr><td>Train Accuracy</td><td>▁▅▆▇█</td></tr><tr><td>Train Loss</td><td>█▄▂▂▁</td></tr><tr><td>Val Accuracy</td><td>▁▄▆▇█</td></tr><tr><td>Val Loss</td><td>█▄▃▂▁</td></tr></table><br/></div><div class=\"wandb-col\"><h3>Run summary:</h3><br/><table class=\"wandb\"><tr><td>Epoch</td><td>5</td></tr><tr><td>Train Accuracy</td><td>0.76111</td></tr><tr><td>Train Loss</td><td>0.75656</td></tr><tr><td>Val Accuracy</td><td>0.77527</td></tr><tr><td>Val Loss</td><td>0.73002</td></tr></table><br/></div></div>"
            ]
          },
          "metadata": {}
        },
        {
          "output_type": "display_data",
          "data": {
            "text/plain": [
              "<IPython.core.display.HTML object>"
            ],
            "text/html": [
              " View run <strong style=\"color:#cdcd00\">iconic-sweep-6</strong> at: <a href='https://wandb.ai/sidbetala/cs6910-assignment1/runs/qwdpxygs' target=\"_blank\">https://wandb.ai/sidbetala/cs6910-assignment1/runs/qwdpxygs</a><br/>Synced 5 W&B file(s), 0 media file(s), 0 artifact file(s) and 0 other file(s)"
            ]
          },
          "metadata": {}
        },
        {
          "output_type": "display_data",
          "data": {
            "text/plain": [
              "<IPython.core.display.HTML object>"
            ],
            "text/html": [
              "Find logs at: <code>./wandb/run-20230319_141702-qwdpxygs/logs</code>"
            ]
          },
          "metadata": {}
        },
        {
          "output_type": "stream",
          "name": "stderr",
          "text": [
            "\u001b[34m\u001b[1mwandb\u001b[0m: Agent Starting Run: 19a13owm with config:\n",
            "\u001b[34m\u001b[1mwandb\u001b[0m: \tactivation: leakyrelu\n",
            "\u001b[34m\u001b[1mwandb\u001b[0m: \tbatch_size: 256\n",
            "\u001b[34m\u001b[1mwandb\u001b[0m: \tepochs: 10\n",
            "\u001b[34m\u001b[1mwandb\u001b[0m: \tinit_method: xavier\n",
            "\u001b[34m\u001b[1mwandb\u001b[0m: \tlearning_rate: 0.1\n",
            "\u001b[34m\u001b[1mwandb\u001b[0m: \tloss: cross_entropy\n",
            "\u001b[34m\u001b[1mwandb\u001b[0m: \tnum_layers: 4\n",
            "\u001b[34m\u001b[1mwandb\u001b[0m: \toptimizer: nadam\n",
            "\u001b[34m\u001b[1mwandb\u001b[0m: \tsize_layer: 64\n",
            "\u001b[34m\u001b[1mwandb\u001b[0m: \tweight_decay: 0.1\n"
          ]
        },
        {
          "output_type": "display_data",
          "data": {
            "text/plain": [
              "<IPython.core.display.HTML object>"
            ],
            "text/html": [
              "Tracking run with wandb version 0.14.0"
            ]
          },
          "metadata": {}
        },
        {
          "output_type": "display_data",
          "data": {
            "text/plain": [
              "<IPython.core.display.HTML object>"
            ],
            "text/html": [
              "Run data is saved locally in <code>/content/wandb/run-20230319_141754-19a13owm</code>"
            ]
          },
          "metadata": {}
        },
        {
          "output_type": "display_data",
          "data": {
            "text/plain": [
              "<IPython.core.display.HTML object>"
            ],
            "text/html": [
              "Syncing run <strong><a href='https://wandb.ai/sidbetala/cs6910-assignment1/runs/19a13owm' target=\"_blank\">sage-sweep-7</a></strong> to <a href='https://wandb.ai/sidbetala/cs6910-assignment1' target=\"_blank\">Weights & Biases</a> (<a href='https://wandb.me/run' target=\"_blank\">docs</a>)<br/>Sweep page: <a href='https://wandb.ai/sidbetala/cs6910-assignment1/sweeps/3odgr0d7' target=\"_blank\">https://wandb.ai/sidbetala/cs6910-assignment1/sweeps/3odgr0d7</a>"
            ]
          },
          "metadata": {}
        },
        {
          "output_type": "display_data",
          "data": {
            "text/plain": [
              "<IPython.core.display.HTML object>"
            ],
            "text/html": [
              " View project at <a href='https://wandb.ai/sidbetala/cs6910-assignment1' target=\"_blank\">https://wandb.ai/sidbetala/cs6910-assignment1</a>"
            ]
          },
          "metadata": {}
        },
        {
          "output_type": "display_data",
          "data": {
            "text/plain": [
              "<IPython.core.display.HTML object>"
            ],
            "text/html": [
              " View sweep at <a href='https://wandb.ai/sidbetala/cs6910-assignment1/sweeps/3odgr0d7' target=\"_blank\">https://wandb.ai/sidbetala/cs6910-assignment1/sweeps/3odgr0d7</a>"
            ]
          },
          "metadata": {}
        },
        {
          "output_type": "display_data",
          "data": {
            "text/plain": [
              "<IPython.core.display.HTML object>"
            ],
            "text/html": [
              " View run at <a href='https://wandb.ai/sidbetala/cs6910-assignment1/runs/19a13owm' target=\"_blank\">https://wandb.ai/sidbetala/cs6910-assignment1/runs/19a13owm</a>"
            ]
          },
          "metadata": {}
        },
        {
          "output_type": "stream",
          "name": "stdout",
          "text": [
            "Model trained!\n"
          ]
        },
        {
          "output_type": "display_data",
          "data": {
            "text/plain": [
              "<IPython.core.display.HTML object>"
            ],
            "text/html": [
              "Waiting for W&B process to finish... <strong style=\"color:green\">(success).</strong>"
            ]
          },
          "metadata": {}
        },
        {
          "output_type": "display_data",
          "data": {
            "text/plain": [
              "<IPython.core.display.HTML object>"
            ],
            "text/html": [
              "<style>\n",
              "    table.wandb td:nth-child(1) { padding: 0 10px; text-align: left ; width: auto;} td:nth-child(2) {text-align: left ; width: 100%}\n",
              "    .wandb-row { display: flex; flex-direction: row; flex-wrap: wrap; justify-content: flex-start; width: 100% }\n",
              "    .wandb-col { display: flex; flex-direction: column; flex-basis: 100%; flex: 1; padding: 10px; }\n",
              "    </style>\n",
              "<div class=\"wandb-row\"><div class=\"wandb-col\"><h3>Run history:</h3><br/><table class=\"wandb\"><tr><td>Epoch</td><td>▁▂▃▃▄▅▆▆▇█</td></tr><tr><td>Train Accuracy</td><td>█▄▆▅▆▅▄▃▂▁</td></tr><tr><td>Train Loss</td><td>█▄▃▂▂▁▁▁▁▁</td></tr><tr><td>Val Accuracy</td><td>▁▁▁▁▁▁▁▁▁▁</td></tr><tr><td>Val Loss</td><td>█▆▅▄▄▃▂▂▁▁</td></tr></table><br/></div><div class=\"wandb-col\"><h3>Run summary:</h3><br/><table class=\"wandb\"><tr><td>Epoch</td><td>10</td></tr><tr><td>Train Accuracy</td><td>0.10088</td></tr><tr><td>Train Loss</td><td>2.30326</td></tr><tr><td>Val Accuracy</td><td>0.09631</td></tr><tr><td>Val Loss</td><td>2.30425</td></tr></table><br/></div></div>"
            ]
          },
          "metadata": {}
        },
        {
          "output_type": "display_data",
          "data": {
            "text/plain": [
              "<IPython.core.display.HTML object>"
            ],
            "text/html": [
              " View run <strong style=\"color:#cdcd00\">sage-sweep-7</strong> at: <a href='https://wandb.ai/sidbetala/cs6910-assignment1/runs/19a13owm' target=\"_blank\">https://wandb.ai/sidbetala/cs6910-assignment1/runs/19a13owm</a><br/>Synced 5 W&B file(s), 0 media file(s), 0 artifact file(s) and 0 other file(s)"
            ]
          },
          "metadata": {}
        },
        {
          "output_type": "display_data",
          "data": {
            "text/plain": [
              "<IPython.core.display.HTML object>"
            ],
            "text/html": [
              "Find logs at: <code>./wandb/run-20230319_141754-19a13owm/logs</code>"
            ]
          },
          "metadata": {}
        },
        {
          "output_type": "stream",
          "name": "stderr",
          "text": [
            "\u001b[34m\u001b[1mwandb\u001b[0m: Agent Starting Run: owdt89lc with config:\n",
            "\u001b[34m\u001b[1mwandb\u001b[0m: \tactivation: sigmoid\n",
            "\u001b[34m\u001b[1mwandb\u001b[0m: \tbatch_size: 256\n",
            "\u001b[34m\u001b[1mwandb\u001b[0m: \tepochs: 5\n",
            "\u001b[34m\u001b[1mwandb\u001b[0m: \tinit_method: kaiming\n",
            "\u001b[34m\u001b[1mwandb\u001b[0m: \tlearning_rate: 0.01\n",
            "\u001b[34m\u001b[1mwandb\u001b[0m: \tloss: cross_entropy\n",
            "\u001b[34m\u001b[1mwandb\u001b[0m: \tnum_layers: 4\n",
            "\u001b[34m\u001b[1mwandb\u001b[0m: \toptimizer: sgd\n",
            "\u001b[34m\u001b[1mwandb\u001b[0m: \tsize_layer: 32\n",
            "\u001b[34m\u001b[1mwandb\u001b[0m: \tweight_decay: 0.1\n"
          ]
        },
        {
          "output_type": "display_data",
          "data": {
            "text/plain": [
              "<IPython.core.display.HTML object>"
            ],
            "text/html": [
              "Tracking run with wandb version 0.14.0"
            ]
          },
          "metadata": {}
        },
        {
          "output_type": "display_data",
          "data": {
            "text/plain": [
              "<IPython.core.display.HTML object>"
            ],
            "text/html": [
              "Run data is saved locally in <code>/content/wandb/run-20230319_141933-owdt89lc</code>"
            ]
          },
          "metadata": {}
        },
        {
          "output_type": "display_data",
          "data": {
            "text/plain": [
              "<IPython.core.display.HTML object>"
            ],
            "text/html": [
              "Syncing run <strong><a href='https://wandb.ai/sidbetala/cs6910-assignment1/runs/owdt89lc' target=\"_blank\">trim-sweep-8</a></strong> to <a href='https://wandb.ai/sidbetala/cs6910-assignment1' target=\"_blank\">Weights & Biases</a> (<a href='https://wandb.me/run' target=\"_blank\">docs</a>)<br/>Sweep page: <a href='https://wandb.ai/sidbetala/cs6910-assignment1/sweeps/3odgr0d7' target=\"_blank\">https://wandb.ai/sidbetala/cs6910-assignment1/sweeps/3odgr0d7</a>"
            ]
          },
          "metadata": {}
        },
        {
          "output_type": "display_data",
          "data": {
            "text/plain": [
              "<IPython.core.display.HTML object>"
            ],
            "text/html": [
              " View project at <a href='https://wandb.ai/sidbetala/cs6910-assignment1' target=\"_blank\">https://wandb.ai/sidbetala/cs6910-assignment1</a>"
            ]
          },
          "metadata": {}
        },
        {
          "output_type": "display_data",
          "data": {
            "text/plain": [
              "<IPython.core.display.HTML object>"
            ],
            "text/html": [
              " View sweep at <a href='https://wandb.ai/sidbetala/cs6910-assignment1/sweeps/3odgr0d7' target=\"_blank\">https://wandb.ai/sidbetala/cs6910-assignment1/sweeps/3odgr0d7</a>"
            ]
          },
          "metadata": {}
        },
        {
          "output_type": "display_data",
          "data": {
            "text/plain": [
              "<IPython.core.display.HTML object>"
            ],
            "text/html": [
              " View run at <a href='https://wandb.ai/sidbetala/cs6910-assignment1/runs/owdt89lc' target=\"_blank\">https://wandb.ai/sidbetala/cs6910-assignment1/runs/owdt89lc</a>"
            ]
          },
          "metadata": {}
        },
        {
          "output_type": "stream",
          "name": "stdout",
          "text": [
            "Model trained!\n"
          ]
        },
        {
          "output_type": "display_data",
          "data": {
            "text/plain": [
              "<IPython.core.display.HTML object>"
            ],
            "text/html": [
              "Waiting for W&B process to finish... <strong style=\"color:green\">(success).</strong>"
            ]
          },
          "metadata": {}
        },
        {
          "output_type": "display_data",
          "data": {
            "text/plain": [
              "<IPython.core.display.HTML object>"
            ],
            "text/html": [
              "<style>\n",
              "    table.wandb td:nth-child(1) { padding: 0 10px; text-align: left ; width: auto;} td:nth-child(2) {text-align: left ; width: 100%}\n",
              "    .wandb-row { display: flex; flex-direction: row; flex-wrap: wrap; justify-content: flex-start; width: 100% }\n",
              "    .wandb-col { display: flex; flex-direction: column; flex-basis: 100%; flex: 1; padding: 10px; }\n",
              "    </style>\n",
              "<div class=\"wandb-row\"><div class=\"wandb-col\"><h3>Run history:</h3><br/><table class=\"wandb\"><tr><td>Epoch</td><td>▁▃▅▆█</td></tr><tr><td>Train Accuracy</td><td>▆▄█▄▁</td></tr><tr><td>Train Loss</td><td>█▁▁▁▁</td></tr><tr><td>Val Accuracy</td><td>▁██▆▆</td></tr><tr><td>Val Loss</td><td>█▄▂▁▁</td></tr></table><br/></div><div class=\"wandb-col\"><h3>Run summary:</h3><br/><table class=\"wandb\"><tr><td>Epoch</td><td>5</td></tr><tr><td>Train Accuracy</td><td>0.09793</td></tr><tr><td>Train Loss</td><td>2.30271</td></tr><tr><td>Val Accuracy</td><td>0.09996</td></tr><tr><td>Val Loss</td><td>2.30275</td></tr></table><br/></div></div>"
            ]
          },
          "metadata": {}
        },
        {
          "output_type": "display_data",
          "data": {
            "text/plain": [
              "<IPython.core.display.HTML object>"
            ],
            "text/html": [
              " View run <strong style=\"color:#cdcd00\">trim-sweep-8</strong> at: <a href='https://wandb.ai/sidbetala/cs6910-assignment1/runs/owdt89lc' target=\"_blank\">https://wandb.ai/sidbetala/cs6910-assignment1/runs/owdt89lc</a><br/>Synced 5 W&B file(s), 0 media file(s), 0 artifact file(s) and 0 other file(s)"
            ]
          },
          "metadata": {}
        },
        {
          "output_type": "display_data",
          "data": {
            "text/plain": [
              "<IPython.core.display.HTML object>"
            ],
            "text/html": [
              "Find logs at: <code>./wandb/run-20230319_141933-owdt89lc/logs</code>"
            ]
          },
          "metadata": {}
        },
        {
          "output_type": "stream",
          "name": "stderr",
          "text": [
            "\u001b[34m\u001b[1mwandb\u001b[0m: Agent Starting Run: ygyruo3o with config:\n",
            "\u001b[34m\u001b[1mwandb\u001b[0m: \tactivation: tanh\n",
            "\u001b[34m\u001b[1mwandb\u001b[0m: \tbatch_size: 32\n",
            "\u001b[34m\u001b[1mwandb\u001b[0m: \tepochs: 5\n",
            "\u001b[34m\u001b[1mwandb\u001b[0m: \tinit_method: random\n",
            "\u001b[34m\u001b[1mwandb\u001b[0m: \tlearning_rate: 0.0001\n",
            "\u001b[34m\u001b[1mwandb\u001b[0m: \tloss: cross_entropy\n",
            "\u001b[34m\u001b[1mwandb\u001b[0m: \tnum_layers: 3\n",
            "\u001b[34m\u001b[1mwandb\u001b[0m: \toptimizer: momentum\n",
            "\u001b[34m\u001b[1mwandb\u001b[0m: \tsize_layer: 128\n",
            "\u001b[34m\u001b[1mwandb\u001b[0m: \tweight_decay: 0\n"
          ]
        },
        {
          "output_type": "display_data",
          "data": {
            "text/plain": [
              "<IPython.core.display.HTML object>"
            ],
            "text/html": [
              "Tracking run with wandb version 0.14.0"
            ]
          },
          "metadata": {}
        },
        {
          "output_type": "display_data",
          "data": {
            "text/plain": [
              "<IPython.core.display.HTML object>"
            ],
            "text/html": [
              "Run data is saved locally in <code>/content/wandb/run-20230319_142015-ygyruo3o</code>"
            ]
          },
          "metadata": {}
        },
        {
          "output_type": "display_data",
          "data": {
            "text/plain": [
              "<IPython.core.display.HTML object>"
            ],
            "text/html": [
              "Syncing run <strong><a href='https://wandb.ai/sidbetala/cs6910-assignment1/runs/ygyruo3o' target=\"_blank\">blooming-sweep-9</a></strong> to <a href='https://wandb.ai/sidbetala/cs6910-assignment1' target=\"_blank\">Weights & Biases</a> (<a href='https://wandb.me/run' target=\"_blank\">docs</a>)<br/>Sweep page: <a href='https://wandb.ai/sidbetala/cs6910-assignment1/sweeps/3odgr0d7' target=\"_blank\">https://wandb.ai/sidbetala/cs6910-assignment1/sweeps/3odgr0d7</a>"
            ]
          },
          "metadata": {}
        },
        {
          "output_type": "display_data",
          "data": {
            "text/plain": [
              "<IPython.core.display.HTML object>"
            ],
            "text/html": [
              " View project at <a href='https://wandb.ai/sidbetala/cs6910-assignment1' target=\"_blank\">https://wandb.ai/sidbetala/cs6910-assignment1</a>"
            ]
          },
          "metadata": {}
        },
        {
          "output_type": "display_data",
          "data": {
            "text/plain": [
              "<IPython.core.display.HTML object>"
            ],
            "text/html": [
              " View sweep at <a href='https://wandb.ai/sidbetala/cs6910-assignment1/sweeps/3odgr0d7' target=\"_blank\">https://wandb.ai/sidbetala/cs6910-assignment1/sweeps/3odgr0d7</a>"
            ]
          },
          "metadata": {}
        },
        {
          "output_type": "display_data",
          "data": {
            "text/plain": [
              "<IPython.core.display.HTML object>"
            ],
            "text/html": [
              " View run at <a href='https://wandb.ai/sidbetala/cs6910-assignment1/runs/ygyruo3o' target=\"_blank\">https://wandb.ai/sidbetala/cs6910-assignment1/runs/ygyruo3o</a>"
            ]
          },
          "metadata": {}
        },
        {
          "output_type": "stream",
          "name": "stdout",
          "text": [
            "Model trained!\n"
          ]
        },
        {
          "output_type": "display_data",
          "data": {
            "text/plain": [
              "<IPython.core.display.HTML object>"
            ],
            "text/html": [
              "Waiting for W&B process to finish... <strong style=\"color:green\">(success).</strong>"
            ]
          },
          "metadata": {}
        },
        {
          "output_type": "display_data",
          "data": {
            "text/plain": [
              "<IPython.core.display.HTML object>"
            ],
            "text/html": [
              "<style>\n",
              "    table.wandb td:nth-child(1) { padding: 0 10px; text-align: left ; width: auto;} td:nth-child(2) {text-align: left ; width: 100%}\n",
              "    .wandb-row { display: flex; flex-direction: row; flex-wrap: wrap; justify-content: flex-start; width: 100% }\n",
              "    .wandb-col { display: flex; flex-direction: column; flex-basis: 100%; flex: 1; padding: 10px; }\n",
              "    </style>\n",
              "<div class=\"wandb-row\"><div class=\"wandb-col\"><h3>Run history:</h3><br/><table class=\"wandb\"><tr><td>Epoch</td><td>▁▃▅▆█</td></tr><tr><td>Train Accuracy</td><td>▁▆▇▇█</td></tr><tr><td>Train Loss</td><td>█▃▂▁▁</td></tr><tr><td>Val Accuracy</td><td>▁▄▆▇█</td></tr><tr><td>Val Loss</td><td>█▄▃▂▁</td></tr></table><br/></div><div class=\"wandb-col\"><h3>Run summary:</h3><br/><table class=\"wandb\"><tr><td>Epoch</td><td>5</td></tr><tr><td>Train Accuracy</td><td>0.80091</td></tr><tr><td>Train Loss</td><td>0.59146</td></tr><tr><td>Val Accuracy</td><td>0.80219</td></tr><tr><td>Val Loss</td><td>0.57853</td></tr></table><br/></div></div>"
            ]
          },
          "metadata": {}
        },
        {
          "output_type": "display_data",
          "data": {
            "text/plain": [
              "<IPython.core.display.HTML object>"
            ],
            "text/html": [
              " View run <strong style=\"color:#cdcd00\">blooming-sweep-9</strong> at: <a href='https://wandb.ai/sidbetala/cs6910-assignment1/runs/ygyruo3o' target=\"_blank\">https://wandb.ai/sidbetala/cs6910-assignment1/runs/ygyruo3o</a><br/>Synced 5 W&B file(s), 0 media file(s), 0 artifact file(s) and 0 other file(s)"
            ]
          },
          "metadata": {}
        },
        {
          "output_type": "display_data",
          "data": {
            "text/plain": [
              "<IPython.core.display.HTML object>"
            ],
            "text/html": [
              "Find logs at: <code>./wandb/run-20230319_142015-ygyruo3o/logs</code>"
            ]
          },
          "metadata": {}
        },
        {
          "output_type": "stream",
          "name": "stderr",
          "text": [
            "\u001b[34m\u001b[1mwandb\u001b[0m: Agent Starting Run: 7tpu9rtw with config:\n",
            "\u001b[34m\u001b[1mwandb\u001b[0m: \tactivation: sigmoid\n",
            "\u001b[34m\u001b[1mwandb\u001b[0m: \tbatch_size: 128\n",
            "\u001b[34m\u001b[1mwandb\u001b[0m: \tepochs: 5\n",
            "\u001b[34m\u001b[1mwandb\u001b[0m: \tinit_method: xavier\n",
            "\u001b[34m\u001b[1mwandb\u001b[0m: \tlearning_rate: 0.01\n",
            "\u001b[34m\u001b[1mwandb\u001b[0m: \tloss: cross_entropy\n",
            "\u001b[34m\u001b[1mwandb\u001b[0m: \tnum_layers: 4\n",
            "\u001b[34m\u001b[1mwandb\u001b[0m: \toptimizer: sgd\n",
            "\u001b[34m\u001b[1mwandb\u001b[0m: \tsize_layer: 128\n",
            "\u001b[34m\u001b[1mwandb\u001b[0m: \tweight_decay: 0\n"
          ]
        },
        {
          "output_type": "display_data",
          "data": {
            "text/plain": [
              "<IPython.core.display.HTML object>"
            ],
            "text/html": [
              "Tracking run with wandb version 0.14.0"
            ]
          },
          "metadata": {}
        },
        {
          "output_type": "display_data",
          "data": {
            "text/plain": [
              "<IPython.core.display.HTML object>"
            ],
            "text/html": [
              "Run data is saved locally in <code>/content/wandb/run-20230319_142223-7tpu9rtw</code>"
            ]
          },
          "metadata": {}
        },
        {
          "output_type": "display_data",
          "data": {
            "text/plain": [
              "<IPython.core.display.HTML object>"
            ],
            "text/html": [
              "Syncing run <strong><a href='https://wandb.ai/sidbetala/cs6910-assignment1/runs/7tpu9rtw' target=\"_blank\">tough-sweep-10</a></strong> to <a href='https://wandb.ai/sidbetala/cs6910-assignment1' target=\"_blank\">Weights & Biases</a> (<a href='https://wandb.me/run' target=\"_blank\">docs</a>)<br/>Sweep page: <a href='https://wandb.ai/sidbetala/cs6910-assignment1/sweeps/3odgr0d7' target=\"_blank\">https://wandb.ai/sidbetala/cs6910-assignment1/sweeps/3odgr0d7</a>"
            ]
          },
          "metadata": {}
        },
        {
          "output_type": "display_data",
          "data": {
            "text/plain": [
              "<IPython.core.display.HTML object>"
            ],
            "text/html": [
              " View project at <a href='https://wandb.ai/sidbetala/cs6910-assignment1' target=\"_blank\">https://wandb.ai/sidbetala/cs6910-assignment1</a>"
            ]
          },
          "metadata": {}
        },
        {
          "output_type": "display_data",
          "data": {
            "text/plain": [
              "<IPython.core.display.HTML object>"
            ],
            "text/html": [
              " View sweep at <a href='https://wandb.ai/sidbetala/cs6910-assignment1/sweeps/3odgr0d7' target=\"_blank\">https://wandb.ai/sidbetala/cs6910-assignment1/sweeps/3odgr0d7</a>"
            ]
          },
          "metadata": {}
        },
        {
          "output_type": "display_data",
          "data": {
            "text/plain": [
              "<IPython.core.display.HTML object>"
            ],
            "text/html": [
              " View run at <a href='https://wandb.ai/sidbetala/cs6910-assignment1/runs/7tpu9rtw' target=\"_blank\">https://wandb.ai/sidbetala/cs6910-assignment1/runs/7tpu9rtw</a>"
            ]
          },
          "metadata": {}
        },
        {
          "output_type": "stream",
          "name": "stderr",
          "text": [
            "\u001b[34m\u001b[1mwandb\u001b[0m: Ctrl + C detected. Stopping sweep.\n"
          ]
        }
      ]
    },
    {
      "cell_type": "code",
      "source": [],
      "metadata": {
        "id": "vCv1PAe9vf-e"
      },
      "execution_count": null,
      "outputs": []
    }
  ]
}